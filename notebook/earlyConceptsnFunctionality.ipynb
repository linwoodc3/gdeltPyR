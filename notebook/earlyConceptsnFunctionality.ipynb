{
 "cells": [
  {
   "cell_type": "markdown",
   "metadata": {},
   "source": [
    "# GDELT 1.0 Code (skip)\n",
    "\n",
    "Will have to integrate this into GDELT 2.0.  Headers are different.  GDELT 1.0 goes back to 1979.  2.0 only goes back to Feb 2015"
   ]
  },
  {
   "cell_type": "code",
   "execution_count": 1,
   "metadata": {
    "ExecuteTime": {
     "end_time": "2017-05-22T06:25:58.750122",
     "start_time": "2017-05-22T06:25:54.265876Z"
    },
    "collapsed": false
   },
   "outputs": [
    {
     "data": {
      "text/html": [
       "<img src=\"../utils/images/spinningglobe.gif\"/>"
      ],
      "text/plain": [
       "<IPython.core.display.Image object>"
      ]
     },
     "execution_count": 1,
     "metadata": {},
     "output_type": "execute_result"
    }
   ],
   "source": [
    "from IPython.display import Image\n",
    "import pandas as pd\n",
    "import numpy as no\n",
    "Image(url='../utils/images/spinningglobe.gif')"
   ]
  },
  {
   "cell_type": "code",
   "execution_count": 2,
   "metadata": {
    "ExecuteTime": {
     "end_time": "2017-05-22T06:25:59.902363",
     "start_time": "2017-05-22T06:25:58.753119Z"
    },
    "collapsed": false
   },
   "outputs": [],
   "source": [
    "import requests\n",
    "import lxml.html as lh\n",
    "\n",
    "gdelt_base_url = 'http://data.gdeltproject.org/events/'\n",
    "gdelt_gkg_url = 'http://api.gdeltproject.org/api/v1/gkg_geojson'\n",
    "# get the list of all the links on the gdelt file page\n",
    "page = requests.get(gdelt_base_url+'index.html')\n",
    "doc = lh.fromstring(page.content)\n",
    "link_list = doc.xpath(\"//*/ul/li/a/@href\")\n",
    "\n",
    "# separate out those links that begin with four digits \n",
    "file_list = [x for x in link_list if str.isdigit(x[0:4])]"
   ]
  },
  {
   "cell_type": "code",
   "execution_count": 83,
   "metadata": {
    "collapsed": false
   },
   "outputs": [],
   "source": [
    "# pd.read_excel('./CSV.header.fieldids.xlsx').columns.tolist()"
   ]
  },
  {
   "cell_type": "code",
   "execution_count": 3,
   "metadata": {
    "ExecuteTime": {
     "end_time": "2017-05-22T06:26:21.057554",
     "start_time": "2017-05-22T06:26:15.738948Z"
    },
    "collapsed": false
   },
   "outputs": [
    {
     "ename": "TypeError",
     "evalue": "a bytes-like object is required, not 'str'",
     "output_type": "error",
     "traceback": [
      "\u001b[0;31m---------------------------------------------------------------------------\u001b[0m",
      "\u001b[0;31mTypeError\u001b[0m                                 Traceback (most recent call last)",
      "\u001b[0;32m<ipython-input-3-0842bf457047>\u001b[0m in \u001b[0;36m<module>\u001b[0;34m()\u001b[0m\n\u001b[1;32m      1\u001b[0m \u001b[0mmasterListUrl\u001b[0m \u001b[0;34m=\u001b[0m \u001b[0;34m'http://data.gdeltproject.org/gdeltv2/masterfilelist.txt'\u001b[0m\u001b[0;34m\u001b[0m\u001b[0m\n\u001b[1;32m      2\u001b[0m \u001b[0mdirectory\u001b[0m \u001b[0;34m=\u001b[0m \u001b[0mrequests\u001b[0m\u001b[0;34m.\u001b[0m\u001b[0mget\u001b[0m\u001b[0;34m(\u001b[0m\u001b[0mmasterListUrl\u001b[0m\u001b[0;34m)\u001b[0m\u001b[0;34m\u001b[0m\u001b[0m\n\u001b[0;32m----> 3\u001b[0;31m \u001b[0mresults\u001b[0m \u001b[0;34m=\u001b[0m \u001b[0mdirectory\u001b[0m\u001b[0;34m.\u001b[0m\u001b[0mcontent\u001b[0m\u001b[0;34m.\u001b[0m\u001b[0msplit\u001b[0m\u001b[0;34m(\u001b[0m\u001b[0;34m'\\n'\u001b[0m\u001b[0;34m)\u001b[0m\u001b[0;34m\u001b[0m\u001b[0m\n\u001b[0m",
      "\u001b[0;31mTypeError\u001b[0m: a bytes-like object is required, not 'str'"
     ]
    }
   ],
   "source": [
    "masterListUrl = 'http://data.gdeltproject.org/gdeltv2/masterfilelist.txt'\n",
    "directory = requests.get(masterListUrl)\n",
    "results = directory.content.split('\\n')"
   ]
  },
  {
   "cell_type": "code",
   "execution_count": 85,
   "metadata": {
    "collapsed": false
   },
   "outputs": [],
   "source": [
    "results;"
   ]
  },
  {
   "cell_type": "code",
   "execution_count": 86,
   "metadata": {
    "collapsed": false
   },
   "outputs": [],
   "source": [
    "# import pandas as pd\n",
    "\n",
    "# pd.options.display.max_rows = 200\n",
    "# df = pd.DataFrame(data.json())\n",
    "\n",
    "# df['coords'] = df.features.apply(lambda row: row['geometry']['coordinates'])\n",
    "# df['lat'] = df.features.apply(lambda row: row['geometry']['coordinates'][1])\n",
    "# df['lon'] = df.features.apply(lambda row: row['geometry']['coordinates'][0])\n",
    "# df['name'] = df.features.apply(lambda row: row['properties']['name'])\n",
    "# df['pubdate'] = df.features.apply(lambda row: row['properties']['urlpubtimedate'])\n",
    "# df['urltone'] = df.features.apply(lambda row: row['properties']['urltone'])\n",
    "# df['mentionedNames'] = df.features.apply(lambda row: row['properties']['mentionednames'])\n",
    "# df['mentioinedThemes'] = df.features.apply(lambda row: row['properties']['mentionedthemes'])\n",
    "# df['url'] = df.features.apply(lambda row: row['properties']['url'])"
   ]
  },
  {
   "cell_type": "markdown",
   "metadata": {},
   "source": [
    "# GDELT 2.0 Access"
   ]
  },
  {
   "cell_type": "code",
   "execution_count": 87,
   "metadata": {
    "collapsed": true
   },
   "outputs": [],
   "source": [
    "import requests\n",
    "import pandas as pd\n",
    "import numpy as np\n",
    "import re\n",
    "from dateutil.parser import parse"
   ]
  },
  {
   "cell_type": "markdown",
   "metadata": {},
   "source": [
    "# Logic for GDELT module\n",
    "\n",
    "Enter a date or date range.  GDELT 2.0 only goes to Feb 18 2015.  GDELT 1.0 goes back to 1979.  \n",
    "\n",
    "Convert the entered date or date range to string, search for string in the master df list.  Use the tblType parameter to pull the correct table(s).  \n",
    "\n",
    "* default is take current time and most recent file\n",
    "* enter historical date; defaults to last record of day\n",
    "    * parse\n",
    "    * add feature to enter time for historical and pull closest 15 minute file\n",
    "    * date range will pull last file for each day and concatenate into single dataframe\n",
    "    \n",
    "choose a database\n",
    "*  Select between events, event mentions or gkg\n",
    "\n",
    "return it as a python or R dataframe\n",
    "*  use the feather library for Python\n",
    "\n",
    "*********************\n"
   ]
  },
  {
   "cell_type": "code",
   "execution_count": 88,
   "metadata": {
    "collapsed": true
   },
   "outputs": [],
   "source": [
    "from dateutil.parser import parse\n",
    "import traceback,sys\n",
    "import pandas as pd\n",
    "import numpy as np\n",
    "import datetime\n",
    "import requests\n",
    "\n",
    "\n",
    "class gdeltSearch(object):\n",
    "    \"\"\"Placeholder string\"\"\"\n",
    "    \n",
    "    def __init__(self,\n",
    "                 gdelt2MasterUrl = 'http://data.gdeltproject.org/gdeltv2/masterfilelist.txt',\n",
    "                 gdelt1MasterUrl = 'http://data.gdeltproject.org/events/index.html',\n",
    "                 tblType = None,\n",
    "                 headers = None,\n",
    "                 masterdf = None,\n",
    "                 clean = None,\n",
    "                 queryTime = datetime.datetime.now().strftime('%m-%d-%Y %H:%M:%S')\n",
    "                 ):\n",
    "        self.gdelt2MasterUrl=gdelt2MasterUrl\n",
    "        self.gdelt1MasterUrl=gdelt1MasterUrl\n",
    "        self.clean = map(\n",
    "                    lambda x: x.split(' '),\n",
    "                    requests.get(self.gdelt2MasterUrl).content.split('\\n')\n",
    "                        )\n",
    "        del self.clean[-1]\n",
    "        self.masterdf = pd.DataFrame(self.clean)\n",
    "        self.masterdf.fillna('', inplace=True)\n",
    "        self.queryTime=queryTime"
   ]
  },
  {
   "cell_type": "code",
   "execution_count": 89,
   "metadata": {
    "collapsed": false
   },
   "outputs": [],
   "source": [
    "import traceback,sys\n",
    "import datetime\n",
    "from dateutil.parser import parse\n",
    "import numpy as np\n",
    "import requests\n",
    "import pandas as pd\n",
    "\n",
    "\n",
    "class gdeltSearch(object):\n",
    "    \"\"\"Placeholder string\"\"\"\n",
    "    \n",
    "    def __init__(self,\n",
    "                 gdelt2MasterUrl='http://data.gdeltproject.org/gdeltv2/masterfilelist.txt',\n",
    "                 gdelt1MasterUrl='http://data.gdeltproject.org/events/index.html',\n",
    "                 tblType=None,\n",
    "                 headers=None,\n",
    "                 masterdf=None,\n",
    "                 clean = None,\n",
    "                 ):\n",
    "        self.gdelt2MasterUrl=gdelt2MasterUrl\n",
    "        self.gdelt1MasterUrl=gdelt1MasterUrl\n",
    "        self.clean = map(lambda x: x.split(' '),requests.get(self.gdelt2MasterUrl).content.split('\\n'))\n",
    "        del self.clean[-1]\n",
    "        self.masterdf = pd.DataFrame(self.clean)\n",
    "        self.masterdf.fillna('',inplace=True)\n",
    "        \n",
    "        \n",
    "        \n",
    "    @staticmethod\n",
    "    def dateInputCheck(date):\n",
    "        \"\"\"Function to check date entered by user.\n",
    "\n",
    "        Example\n",
    "\n",
    "        Parameters\n",
    "            ----------\n",
    "            date : {string or list}, \n",
    "                Input data, where ``date`` is a single date string, \n",
    "                two dates representing a range, or several dates \\\n",
    "                that represent individual days of interest.\n",
    "        Returns\n",
    "        -------\n",
    "        self : None\n",
    "            Returns self.\n",
    "        \"\"\"\n",
    "\n",
    "        if isinstance(date,str):\n",
    "            if date != \"\":\n",
    "                if parse(date) > datetime.datetime.now():\n",
    "                    raise ValueError('Your date is greater than the current date.\\\n",
    "                    Please enter a relevant date.')\n",
    "                elif parse(date)<parse('Feb 18 2015'):\n",
    "                    raise ValueError('GDELT 2.0 only supports \\'Feb 18 2015 - Present\\'\\\n",
    "                    queries currently. Try another date.')\n",
    "\n",
    "        elif isinstance(date,list):\n",
    "            if len(date)==1:\n",
    "                try:\n",
    "                    if parse(\"\".join(date)) > datetime.datetime.now():\n",
    "                        raise ValueError('Your date is greater than the current\\\n",
    "                        date.  Please enter a relevant date.')\n",
    "                    elif parse(\"\".join(date)) < parse('Feb 18 2015'):\n",
    "                        raise ValueError('GDELT 2.0 only supports \\'Feb 18 2015 - Present\\' \\\n",
    "                        queries currently. Try another date.')\n",
    "                except:\n",
    "                    exc_type, exc_value, exc_traceback = sys.exc_info()\n",
    "                    traceback.print_tb(exc_traceback, limit=1, file=sys.stdout)\n",
    "                    traceback.print_exception(exc_type, exc_value, exc_traceback,\n",
    "                                              limit=2, file=sys.stdout)\n",
    "                    raise ValueError(\"One or more of your input date strings does \\\n",
    "                    not parse to a date format. Check input.\")\n",
    "\n",
    "\n",
    "            elif len(date)==2:\n",
    "                try:\n",
    "                    map(parse,date)\n",
    "                except Exception as exc:\n",
    "                    exc_type, exc_value, exc_traceback = sys.exc_info()\n",
    "                    traceback.print_tb(exc_traceback, limit=1, file=sys.stdout)\n",
    "                    traceback.print_exception(exc_type, exc_value, exc_traceback,\n",
    "                                              limit=2, file=sys.stdout)\n",
    "                    raise ValueError(\"One or more of your input date strings \\\n",
    "                    does not parse to a date format. Check input.\")\n",
    "\n",
    "                if bool(parse(date[0])<parse(date[1])) == False:\n",
    "                    raise ValueError('Start date greater than end date. Check date \\\n",
    "                    strings.')\n",
    "\n",
    "                if np.all(\n",
    "                        np.logical_not(np.array(map(parse,date))> datetime.datetime.now())\n",
    "                        ) == False:\n",
    "                    raise ValueError(\"One of your dates is greater than the current \\\n",
    "                    date. Check input date strings.\")\n",
    "\n",
    "\n",
    "            elif len(date)>2:\n",
    "\n",
    "                try:\n",
    "                    map(parse,date)\n",
    "                except Exception as exc:\n",
    "                    exc_type, exc_value, exc_traceback = sys.exc_info()\n",
    "                    traceback.print_tb(exc_traceback, limit=1, file=sys.stdout)\n",
    "                    traceback.print_exception(exc_type, exc_value, exc_traceback,\n",
    "                                              limit=2, file=sys.stdout)\n",
    "                    raise ValueError(\"One or more of your input date strings does \\\n",
    "                    not parse to a date format. Check input.\")\n",
    "\n",
    "                if np.all(\n",
    "                        np.logical_not(np.array(map(parse,date))> datetime.datetime.now())\n",
    "                        ) == False:\n",
    "                    raise ValueError(\"One or more of your input date strings does not \\\n",
    "                    parse to a date format. Check input.\")\n",
    "                    \n",
    "            self.date=date\n",
    "            \n",
    "    @staticmethod        \n",
    "    def parse_date(var):\n",
    "        \"\"\"Return datetime object from string.\"\"\"\n",
    "\n",
    "        try:\n",
    "            return np.where(isinstance(parse(var),datetime.datetime),\n",
    "                     parse(var),\"Error\")             \n",
    "        except:\n",
    "            return \"You entered an incorrect date.  Check your date format.\"\n",
    "\n",
    "    @staticmethod\n",
    "    def dateformatter(datearray):\n",
    "        \"\"\"Function to format strings for numpy arange\"\"\"\n",
    "        return parse(datearray).strftime(\"%Y-%m-%d\")\n",
    "\n",
    "    @staticmethod\n",
    "    def dateRanger(originalArray):\n",
    "        \"\"\"Function to vectorize date formatting function.\n",
    "        Creates datetime.date objects for each day in the range\n",
    "        and stores in a numpy array.\n",
    "\n",
    "        Example\n",
    "\n",
    "        Parameters\n",
    "            ----------\n",
    "            originalArray : {array-like}, List of date strings \\\n",
    "            to query.\n",
    "        Returns\n",
    "        -------\n",
    "        self : object\n",
    "            Returns array.\n",
    "        \"\"\"\n",
    "        if isinstance(originalArray,str):\n",
    "            \"\"\"Check user input to retrieve date query.\"\"\"\n",
    "\n",
    "            return np.where(len(originalArray)==0,np.array(datetime.datetime.now()),\n",
    "                     parse_date(originalArray))\n",
    "\n",
    "        elif isinstance(originalArray,list):\n",
    "            if len(originalArray)==1:\n",
    "                return np.array(parse(\"\".join(originalArray)))\n",
    "            elif len(originalArray)>2:\n",
    "                return np.array(map(parse,originalArray),dtype='datetime64[D]')\n",
    "            else:\n",
    "                cleaner = np.vectorize(dateformatter)\n",
    "                converted = cleaner(originalArray).tolist()\n",
    "                dates = np.arange(converted[0],converted[1],dtype='datetime64[D]')\n",
    "                dates = np.append(dates,np.datetime64(datetime.date.today())) \n",
    "                return dates\n",
    "    @staticmethod\n",
    "    def gdeltRangeString(element):\n",
    "        if element == datetime.date.today():\n",
    "            multiplier = datetime.datetime.now().minute / 15\n",
    "            multiple = 15 * multiplier\n",
    "            converted = datetime.datetime.now().replace(minute=multiple,second=0)\n",
    "        else:\n",
    "            converted = (datetime.datetime.combine(element,datetime.time.min) + \n",
    "                datetime.timedelta(\n",
    "                                    minutes=45,hours=23\n",
    "                                    )\n",
    "                                   )\n",
    "        return converted.strftime('%Y%m%d%H%M%S')\n",
    "\n",
    "\n",
    "    @staticmethod\n",
    "    def vectorizer(function,dateArray):\n",
    "        helper = np.vectorize(function)\n",
    "        return helper(dateArray.tolist()).tolist()\n",
    "\n",
    "    # Finds the urls from an array of dates\n",
    "\n",
    "    @staticmethod\n",
    "    def UrlFinder(targetDate):\n",
    "        return masterdf[masterdf[2].str.contains(targetDate)]\n",
    "\n",
    "    @staticmethod\n",
    "    def vectorizedUrlFinder(function,urlList):\n",
    "        helper=np.vectorize(function)\n",
    "        return pd.concat(helper(urlList).tolist())\n",
    "\n",
    "    @staticmethod\n",
    "    def downloadVectorizer(function,urlList):\n",
    "        '''\n",
    "        test2 = downloadVectorizer(downloadAndExtract,b)\n",
    "        test2.columns=gkgHeaders.tableId.tolist()\n",
    "        '''\n",
    "        helper=np.vectorize(function)\n",
    "        return pd.concat(helper(urlList).tolist())"
   ]
  },
  {
   "cell_type": "code",
   "execution_count": 90,
   "metadata": {
    "collapsed": false
   },
   "outputs": [],
   "source": [
    "gdelt = gdeltSearch()"
   ]
  },
  {
   "cell_type": "markdown",
   "metadata": {},
   "source": [
    "# URLS\n",
    "\n",
    "The main urls that we need to hit to return data."
   ]
  },
  {
   "cell_type": "code",
   "execution_count": 91,
   "metadata": {
    "collapsed": true
   },
   "outputs": [],
   "source": [
    "masterListUrl = 'http://data.gdeltproject.org/gdeltv2/masterfilelist.txt'\n",
    "baseUrl = 'http://data.gdeltproject.org/gdeltv2/'"
   ]
  },
  {
   "cell_type": "markdown",
   "metadata": {},
   "source": [
    "# Parameters and Global Variables\n",
    "\n",
    "Section contains variables that will be `self.` objects in the classes."
   ]
  },
  {
   "cell_type": "code",
   "execution_count": null,
   "metadata": {
    "collapsed": true
   },
   "outputs": [],
   "source": []
  },
  {
   "cell_type": "code",
   "execution_count": 92,
   "metadata": {
    "collapsed": false
   },
   "outputs": [],
   "source": [
    "'''\n",
    "Listing of all GDELT 15 minute dumps. Code retrieves the list,\n",
    "splits it on the new line character, and then splits on the space. \n",
    "We delete the last entry because it's empty.  \n",
    "'''\n",
    "directory = requests.get(masterListUrl)\n",
    "clean = directory.content.split('\\n')\n",
    "clean = map(lambda x: x.split(' '),clean)\n",
    "del clean[-1]\n",
    "\n",
    "\"\"\"\n",
    "Setting up the master list as dataframe for querying\n",
    "this will be inside the class\n",
    "\"\"\"\n",
    "masterdf = pd.DataFrame(clean)\n",
    "masterdf.fillna('',inplace=True)"
   ]
  },
  {
   "cell_type": "code",
   "execution_count": 93,
   "metadata": {
    "collapsed": false
   },
   "outputs": [],
   "source": [
    "# # dayFull = downloadVectorizer(downloadAndExtract,masterdf[(masterdf[2].str.contains('/20160926')) & (masterdf[2].str.contains('export'))][2].unique().tolist())\n",
    "# # dayFull.columns = eventsDbHeaders.tableId.tolist()\n",
    "\n",
    "# # dayFullMentions = downloadVectorizer(downloadAndExtract,masterdf[(masterdf[2].str.contains('/20160926')) & (masterdf[2].str.contains('mentions'))][2].unique().tolist())\n",
    "# # dayFullMentions.columns = mentionsHeaders.tableId.tolist()\n",
    "\n",
    "# # finalFull = dayFull.merge(dayFullMentions,how='outer',on='GLOBALEVENTID')\n",
    "# # finalFull.reset_index(inplace=True,drop=True)\n",
    "\n",
    "# finalFull.EventCode>=190\n",
    "\n",
    "# finalFull[\n",
    "#     (finalFull.Confidence > 75) & \n",
    "#     (finalFull.ActionGeo_Lat.notnull()) & \n",
    "#     (finalFull.GoldsteinScale<-5) &\n",
    "#     (finalFull.ActionGeo_CountryCode=='SY') &\n",
    "#     (finalFull.EventCode==193)\n",
    "#         ].SOURCEURL.unique()\n",
    "\n",
    "# finalFull.columns.tolist()\n",
    "\n",
    "# finalFull[]\n",
    "\n",
    "# finalFull[(finalFull.ActionGeo_CountryCode=='SY') & \n",
    "#           (finalFull.Actor1Name.notnull()) &\n",
    "#           (finalFull.Confidence >70) &\n",
    "#           (finalFull.EventCode>190) &\n",
    "#           (finalFull.Actor1Name.str.contains('TERRORIST'))].SOURCEURL.unique()"
   ]
  },
  {
   "cell_type": "code",
   "execution_count": 94,
   "metadata": {
    "collapsed": false
   },
   "outputs": [],
   "source": [
    "# table type = tblType\n",
    "import datetime\n",
    "import pandas as pd\n",
    "\n",
    "graph = 'gkg'\n",
    "events = 'events' # includes new GDELT 2.0 mentions table; merged on globaleventid\n",
    "\n",
    "tblType = events  # default to events db"
   ]
  },
  {
   "cell_type": "markdown",
   "metadata": {},
   "source": [
    "\n",
    "## Date Parameters that will be entered\n",
    "\n",
    "Location to hold testing spot for all the different type of parameters that can be entered."
   ]
  },
  {
   "cell_type": "code",
   "execution_count": 95,
   "metadata": {
    "collapsed": true
   },
   "outputs": [],
   "source": [
    "defaultDateEntry = \"\" # string\n",
    "stringDateEntry = \" 2016 09 18\" # string\n",
    "historicalDateEntry = \"2015 02 25\" #string\n",
    "errorDate = \"What in the heck\" # error string\n",
    "listOfdates = ['Sep 1 2016','2016 09 24'] # list, len 2\n",
    "moreThanTwo= ['Sept 20 2016','June 3 2011','January 1, 2013'] # list, len greater than 2d\n",
    "\n",
    "date = defaultDateEntry\n",
    "time = \"\""
   ]
  },
  {
   "cell_type": "code",
   "execution_count": 96,
   "metadata": {
    "collapsed": false
   },
   "outputs": [
    {
     "data": {
      "text/plain": [
       "''"
      ]
     },
     "execution_count": 96,
     "metadata": {},
     "output_type": "execute_result"
    }
   ],
   "source": [
    "date"
   ]
  },
  {
   "cell_type": "markdown",
   "metadata": {},
   "source": [
    "## Setting the values for the headers\n",
    "\n",
    "Headers are set based on `tblType` value passed in.  Will default to the events DB headers.  "
   ]
  },
  {
   "cell_type": "code",
   "execution_count": 97,
   "metadata": {
    "collapsed": false
   },
   "outputs": [],
   "source": [
    "gkgHeaders = pd.read_csv(\n",
    "    '../utils/schema_csvs/GDELT_2.0_gdeltKnowledgeGraph_Column_Labels_Header_Row_Sep2016.tsv',\n",
    "    delimiter='\\t',usecols=['tableId','dataType','Description']\n",
    "    )\n",
    "gkgHeaders.tableId.tolist();\n",
    "\n",
    "eventsDbHeaders = pd.read_csv('../utils/schema_csvs/GDELT_2.0_Events_Column_Labels_Header_Row_Sep2016.csv',\n",
    "                         delimiter=',',usecols=['tableId','dataType','Description'])\n",
    "eventsDbHeaders.tableId.tolist();\n",
    "\n",
    "mentionsHeaders = pd.read_csv('../utils/schema_csvs/GDELT_2.0_eventMentions_Column_Labels_Header_Row_Sep2016.tsv',\n",
    "                         delimiter='\\t',usecols=['tableId','dataType','Description'])\n",
    "mentionsHeaders.tableId.tolist();"
   ]
  },
  {
   "cell_type": "code",
   "execution_count": 98,
   "metadata": {
    "collapsed": false
   },
   "outputs": [
    {
     "data": {
      "text/plain": [
       "'10-23-2016'"
      ]
     },
     "execution_count": 98,
     "metadata": {},
     "output_type": "execute_result"
    }
   ],
   "source": [
    "datetime.datetime.now().strftime('%m-%d-%Y')"
   ]
  },
  {
   "cell_type": "markdown",
   "metadata": {},
   "source": [
    "**************************\n",
    "\n",
    "\n",
    "# Checking Inputs of functions and parameters\n",
    "\n",
    "We need to see how many dates are passed into the function.  Use the logic above. "
   ]
  },
  {
   "cell_type": "code",
   "execution_count": 99,
   "metadata": {
    "collapsed": false
   },
   "outputs": [],
   "source": [
    "import traceback,sys\n",
    "import datetime\n",
    "from dateutil.parser import parse\n",
    "import numpy as np\n",
    "\n",
    "def dateInputCheck(date):\n",
    "    \"\"\"Function to check date entered by user.\n",
    "    \n",
    "    Example\n",
    "    \n",
    "    Parameters\n",
    "        ----------\n",
    "        date : {string or list}, \n",
    "            Input data, where ``date`` is a single date string, \n",
    "            two dates representing a range, or several dates \\\n",
    "            that represent individual days of interest.\n",
    "    Returns\n",
    "    -------\n",
    "    self : None\n",
    "        Returns self.\n",
    "    \"\"\"\n",
    "    \n",
    "    if isinstance(date,str):\n",
    "        if date != \"\":\n",
    "            if parse(date) > datetime.datetime.now():\n",
    "                raise ValueError('Your date is greater than the current date.\\\n",
    "                Please enter a relevant date.')\n",
    "            elif parse(date)<parse('Feb 18 2015'):\n",
    "                raise ValueError('GDELT 2.0 only supports \\'Feb 18 2015 - Present\\'\\\n",
    "                queries currently. Try another date.')\n",
    "\n",
    "    elif isinstance(date,list):\n",
    "        if len(date)==1:\n",
    "            try:\n",
    "                if parse(\"\".join(date)) > datetime.datetime.now():\n",
    "                    raise ValueError('Your date is greater than the current\\\n",
    "                    date.  Please enter a relevant date.')\n",
    "                elif parse(\"\".join(date)) < parse('Feb 18 2015'):\n",
    "                    raise ValueError('GDELT 2.0 only supports \\'Feb 18 2015 - Present\\' \\\n",
    "                    queries currently. Try another date.')\n",
    "            except:\n",
    "                exc_type, exc_value, exc_traceback = sys.exc_info()\n",
    "                traceback.print_tb(exc_traceback, limit=1, file=sys.stdout)\n",
    "                traceback.print_exception(exc_type, exc_value, exc_traceback,\n",
    "                                          limit=2, file=sys.stdout)\n",
    "                raise ValueError(\"One or more of your input date strings does \\\n",
    "                not parse to a date format. Check input.\")\n",
    "\n",
    "        \n",
    "        elif len(date)==2:\n",
    "            try:\n",
    "                map(parse,date)\n",
    "            except Exception as exc:\n",
    "                exc_type, exc_value, exc_traceback = sys.exc_info()\n",
    "                traceback.print_tb(exc_traceback, limit=1, file=sys.stdout)\n",
    "                traceback.print_exception(exc_type, exc_value, exc_traceback,\n",
    "                                          limit=2, file=sys.stdout)\n",
    "                raise ValueError(\"One or more of your input date strings \\\n",
    "                does not parse to a date format. Check input.\")\n",
    "\n",
    "            if bool(parse(date[0])<parse(date[1])) == False:\n",
    "                raise ValueError('Start date greater than end date. Check date \\\n",
    "                strings.')\n",
    "                \n",
    "            if np.all(\n",
    "                    np.logical_not(np.array(map(parse,date))> datetime.datetime.now())\n",
    "                    ) == False:\n",
    "                raise ValueError(\"One of your dates is greater than the current \\\n",
    "                date. Check input date strings.\")\n",
    "\n",
    "            \n",
    "        elif len(date)>2:\n",
    "\n",
    "            try:\n",
    "                map(parse,date)\n",
    "            except Exception as exc:\n",
    "                exc_type, exc_value, exc_traceback = sys.exc_info()\n",
    "                traceback.print_tb(exc_traceback, limit=1, file=sys.stdout)\n",
    "                traceback.print_exception(exc_type, exc_value, exc_traceback,\n",
    "                                          limit=2, file=sys.stdout)\n",
    "                raise ValueError(\"One or more of your input date strings does \\\n",
    "                not parse to a date format. Check input.\")\n",
    "                \n",
    "            if np.all(\n",
    "                    np.logical_not(np.array(map(parse,date))> datetime.datetime.now())\n",
    "                    ) == False:\n",
    "                raise ValueError(\"One or more of your input date strings does not \\\n",
    "                parse to a date format. Check input.\")"
   ]
  },
  {
   "cell_type": "code",
   "execution_count": 100,
   "metadata": {
    "collapsed": false
   },
   "outputs": [
    {
     "data": {
      "text/plain": [
       "[datetime.date(2016, 10, 11),\n",
       " datetime.date(2016, 10, 12),\n",
       " datetime.date(2016, 10, 13),\n",
       " datetime.date(2016, 10, 14),\n",
       " datetime.date(2016, 10, 15)]"
      ]
     },
     "execution_count": 100,
     "metadata": {},
     "output_type": "execute_result"
    }
   ],
   "source": [
    "np.arange('2016-10-11', '2016-10-16', dtype='datetime64[D]').tolist()"
   ]
  },
  {
   "cell_type": "code",
   "execution_count": 101,
   "metadata": {
    "collapsed": false
   },
   "outputs": [],
   "source": [
    "tester = np.append((np.arange('2016-10-11', '2016-10-16', dtype='datetime64[D]')).tolist(),datetime.datetime.now().date().today()).tolist()"
   ]
  },
  {
   "cell_type": "code",
   "execution_count": 102,
   "metadata": {
    "collapsed": false
   },
   "outputs": [
    {
     "data": {
      "text/plain": [
       "[datetime.date(2016, 10, 11),\n",
       " datetime.date(2016, 10, 12),\n",
       " datetime.date(2016, 10, 13),\n",
       " datetime.date(2016, 10, 14),\n",
       " datetime.date(2016, 10, 15),\n",
       " datetime.date(2016, 10, 23)]"
      ]
     },
     "execution_count": 102,
     "metadata": {},
     "output_type": "execute_result"
    }
   ],
   "source": [
    "tester"
   ]
  },
  {
   "cell_type": "code",
   "execution_count": 103,
   "metadata": {
    "collapsed": false
   },
   "outputs": [
    {
     "data": {
      "text/plain": [
       "True"
      ]
     },
     "execution_count": 103,
     "metadata": {},
     "output_type": "execute_result"
    }
   ],
   "source": [
    "datetime.datetime.now().date().today() in tester"
   ]
  },
  {
   "cell_type": "markdown",
   "metadata": {},
   "source": [
    "### Checking the tblType input"
   ]
  },
  {
   "cell_type": "code",
   "execution_count": 104,
   "metadata": {
    "collapsed": false
   },
   "outputs": [],
   "source": [
    "# gets the urls from array\n",
    "# resultMaster = vectorizedUrlFinder(UrlFinder,datesToPull)\n",
    "\n",
    "\n",
    "def tblCheck(tbl):\n",
    "    '''Checking the input of tblType.'''\n",
    "    if tbl == 'events' or tbl == '' or tbl == 'mentions':\n",
    "        resultsUrlList = resultMaster[2][resultMaster[2].str.contains('export|mentions')]\n",
    "    elif tbl == 'gkg':\n",
    "        resultsUrlList = resultMaster[2][resultMaster[2].str.contains('gkg')]\n",
    "    else:\n",
    "        raise ValueError (\"Incorrect parameter \\'{0}\\' entered.  Did you mean to use \\'{0}\\' as the parameter?\\nPlease check your \\'tblType\\' parameters.\".format(tblType))\n",
    "    return resultsUrlList"
   ]
  },
  {
   "cell_type": "markdown",
   "metadata": {},
   "source": [
    "*************"
   ]
  },
  {
   "cell_type": "markdown",
   "metadata": {},
   "source": [
    "# Date Functionality (Date ranges)\n",
    "\n",
    "Use the numpy date range functionality to create strings of dates between ranges in a list.  Then, use the dateutil tool to parse those strings into the correct format.  Then run a query for each date, return the dataframe, and concatenate into a single one.\n",
    "\n",
    "* Logic\n",
    "    * If length of passed in date less than zero, raise error\n",
    "    * If length is equal to one, find that one date's table or graph\n",
    "    * If length equal to two:\n",
    "        * if dates are chronological, covert to numpy range and pull all tables or graphs, but raise warning for long ranges\n",
    "        * if dates are not chronological, get individual dates\n",
    "    * If length greater than two, get the individual dates\n",
    "        * initially, return the latest time\n",
    "        * add option to return closest 15 minute interval to passed in time"
   ]
  },
  {
   "cell_type": "markdown",
   "metadata": {},
   "source": [
    "## Code Pieces and Functions"
   ]
  },
  {
   "cell_type": "code",
   "execution_count": 105,
   "metadata": {
    "collapsed": false
   },
   "outputs": [
    {
     "data": {
      "text/plain": [
       "array(['2016-08-01', '2016-08-02', '2016-08-03', '2016-08-04',\n",
       "       '2016-08-05', '2016-08-06', '2016-08-07', '2016-08-08',\n",
       "       '2016-08-09', '2016-08-10', '2016-08-11', '2016-08-12',\n",
       "       '2016-08-13', '2016-08-14', '2016-08-15', '2016-08-16',\n",
       "       '2016-08-17', '2016-08-18', '2016-08-19', '2016-08-20',\n",
       "       '2016-08-21', '2016-08-22', '2016-08-23', '2016-08-24',\n",
       "       '2016-08-25', '2016-08-26', '2016-08-27', '2016-08-28',\n",
       "       '2016-08-29', '2016-08-30', '2016-08-31', '2016-09-01',\n",
       "       '2016-09-02', '2016-09-03', '2016-09-04', '2016-09-05',\n",
       "       '2016-09-06', '2016-09-07', '2016-09-08', '2016-09-09',\n",
       "       '2016-09-10', '2016-09-11', '2016-09-12', '2016-09-13',\n",
       "       '2016-09-14', '2016-09-15'], dtype='datetime64[D]')"
      ]
     },
     "execution_count": 105,
     "metadata": {},
     "output_type": "execute_result"
    }
   ],
   "source": [
    "# numpy example of ranging the date\n",
    "np.arange('2016-08-01', '2016-09-16', dtype='datetime64[D]')"
   ]
  },
  {
   "cell_type": "code",
   "execution_count": 106,
   "metadata": {
    "collapsed": false
   },
   "outputs": [],
   "source": [
    "#############################################\n",
    "# Parse the date\n",
    "#############################################\n",
    "\n",
    "\n",
    "from dateutil.parser import parse\n",
    "import pandas as pd\n",
    "import numpy as np \n",
    "import requests\n",
    "import datetime\n",
    "\n",
    "\n",
    "\n",
    "def parse_date(var):\n",
    "    \"\"\"Return datetime object from string.\"\"\"\n",
    "    \n",
    "    try:\n",
    "        return np.where(isinstance(parse(var),datetime.datetime),\n",
    "                 parse(var),\"Error\")             \n",
    "    except:\n",
    "        return \"You entered an incorrect date.  Check your date format.\"\n",
    "\n",
    "\n",
    "def dateFormatter(datearray):\n",
    "    \"\"\"Function to format strings for numpy arange\"\"\"\n",
    "    return parse(datearray).strftime(\"%Y-%m-%d\")\n",
    "    \n",
    "\n",
    "def dateRanger(originalArray):\n",
    "    \"\"\"Function to vectorize date formatting function.\n",
    "    Creates datetime.date objects for each day in the range\n",
    "    and stores in a numpy array.\n",
    "    \n",
    "    Example\n",
    "    \n",
    "    Parameters\n",
    "        ----------\n",
    "        X : {array-like, sparse matrix}, shape (n_samples, n_features)\n",
    "            Input data, where ``n_samples`` is the number of samples and\n",
    "            ``n_features`` is the number of features.\n",
    "    Returns\n",
    "    -------\n",
    "    self : object\n",
    "        Returns self.\n",
    "    \"\"\"\n",
    "    if isinstance(originalArray,str):\n",
    "        \"\"\"Check user input to retrieve date query.\"\"\"\n",
    "    \n",
    "        return np.where(len(originalArray)==0,np.array(datetime.datetime.now()),\n",
    "                 parse_date(originalArray))\n",
    "    \n",
    "    elif isinstance(originalArray,list):\n",
    "       \n",
    "        if len(originalArray)==1:\n",
    "            return np.array(parse(\"\".join(originalArray)))\n",
    "        elif len(originalArray)>2:\n",
    "#           \n",
    "#             return np.array(map(parse,originalArray),dtype='datetime64[D]').tolist()\n",
    "            return np.array(map(lambda x: parse(x),originalArray))\n",
    "        else:\n",
    "            \n",
    "            cleaner = np.vectorize(dateFormatter)\n",
    "            converted = cleaner(originalArray).tolist()\n",
    "            dates = np.arange(converted[0],converted[1],dtype='datetime64[D]')\n",
    "            dates = map(lambda x: datetime.datetime.combine(x,datetime.datetime.min.time()),dates.tolist())\n",
    "            if len(originalArray)==2:\n",
    "                adder = np.datetime64(parse(converted[1]).date())\n",
    "                adder = datetime.datetime.combine(adder.tolist(),datetime.datetime.min.time())\n",
    "                return np.append(dates,adder) # numpy range is not endpoint inclusive\n",
    "            else:\n",
    "                pass\n",
    "            return np.array(dates)\n",
    "\n",
    "# def gdeltRangeString(element,coverage = None):\n",
    "#     \"\"\"Takes a numpy datetime and converts to string\"\"\"\n",
    "    \n",
    "#     ########################\n",
    "#     # Numpy datetime to object\n",
    "#     ########################\n",
    "#     element = element.tolist()\n",
    "    \n",
    "#     #########################\n",
    "#     # Current day check\n",
    "#     #########################\n",
    "#     if element == datetime.datetime.now().date():\n",
    "#         hour = datetime.datetime.now().hour\n",
    "#         multiplier = datetime.datetime.now().minute / 15\n",
    "#         multiple = 15 * multiplier\n",
    "#         conditioner =  multiplier +1\n",
    "#         converted = datetime.datetime.now().replace(minute=multiple,second=0).strftime('%Y%m%d%H%M%S')\n",
    "        \n",
    "#         ####################\n",
    "#         # Check for full data\n",
    "#         ####################\n",
    "#         if coverage:\n",
    "#             converted = restOfDay = np.array(\n",
    "#         map(\n",
    "#             lambda x: np.datetime64(parse(str(element)+\" \"+ x)\n",
    "#                                    ).tolist().strftime(\n",
    "#                 '%Y%m%d%H%M%S'\n",
    "#             ),times[:hour*4+conditioner]))\n",
    "            \n",
    "        \n",
    "        \n",
    "#     else:\n",
    "        \n",
    "#         if isinstance(element,list)==True:\n",
    "#             converted = map(lambda x: x,element)\n",
    "#         else:\n",
    "#             converted = (datetime.datetime.combine(element,datetime.time.min) + \n",
    "#                 datetime.timedelta(\n",
    "#                                     minutes=45,hours=23\n",
    "#                                     )\n",
    "#                                    ).strftime('%Y%m%d%H%M%S')\n",
    "#         if coverage:\n",
    "            \n",
    "#             converted = restOfDay = np.array(\n",
    "#             map(\n",
    "#                 lambda x: np.datetime64(parse('2016 10 15 '+ x)\n",
    "#                                        ).tolist().strftime(\n",
    "#                     '%Y%m%d%H%M%S'\n",
    "#                 ),times[:]))\n",
    "            \n",
    "\n",
    "            \n",
    "#     return converted\n",
    "\n",
    "\n",
    "def vectorizer(function,dateArray):\n",
    "    helper = np.vectorize(function)\n",
    "    \n",
    "    final = helper(dateArray.tolist()).tolist()\n",
    "    \n",
    "    if isinstance(final,list):\n",
    "        \n",
    "        final = list(set(final))\n",
    "    elif isinstance(final,str):\n",
    "        final=final\n",
    "    else:\n",
    "        pass\n",
    "    \n",
    "    return final\n",
    "\n",
    "# Finds the urls from an array of dates\n",
    "\n",
    "\n",
    "def UrlFinder(targetDate):\n",
    "    return masterdf[masterdf[2].str.contains(targetDate)]\n",
    "\n",
    "\n",
    "def vectorizedUrlFinder(function,urlList):\n",
    "    helper=np.vectorize(function)\n",
    "    return pd.concat(helper(urlList).tolist())\n",
    "\n",
    "\n",
    "def downloadVectorizer(function,urlList):\n",
    "    '''\n",
    "    test2 = downloadVectorizer(downloadAndExtract,b)\n",
    "    test2.columns=gkgHeaders.tableId.tolist()\n",
    "    '''\n",
    "    helper=np.vectorize(function)\n",
    "    return pd.concat(helper(urlList).tolist())\n",
    "\n",
    "\n",
    "date = datetime.datetime.now().strftime('%Y %m %d')\n",
    "date2 = \"2016 Mar 13\"\n",
    "date3 = [\"2016 Oct 1\",'2016 Oct 15']\n",
    "date4 = [\"2016 Jan 1\",'2016 Oct 15','2016 Apr 3']\n",
    "date5 = ['2016 Jan 20','2016 Apr 3', \"2015 Jun 8\", '2015 25 Dec']\n",
    "\n",
    "\n",
    "minutes =(map(str,range(00,60,15)))\n",
    "hours = (map(str,range(0,24)))\n",
    "times =[]\n",
    "for l in hours:\n",
    "    if int(l)<10:\n",
    "        l=\"0\"+l\n",
    "    for k in minutes:\n",
    "        if k == \"0\":\n",
    "            k='00'\n",
    "        times.append('{0}:{1}'.format(l,k))"
   ]
  },
  {
   "cell_type": "markdown",
   "metadata": {},
   "source": [
    "# Logic\n",
    "\n",
    "* Enter string date\n",
    "* parse date\n",
    "* check date (list or individual, valid or not)\n",
    "* check for 15 minute request or full day request\n",
    "* generate GDELT valid date string\n",
    "* generate GDELT valide url\n",
    "* download urls\n",
    "* add headers\n",
    "* concatenate into dataframe\n",
    "* output data in dataframe, csv, json, excel, stata,gbq, sql etc.\n"
   ]
  },
  {
   "cell_type": "markdown",
   "metadata": {},
   "source": [
    "# Fixed RangeString"
   ]
  },
  {
   "cell_type": "code",
   "execution_count": 110,
   "metadata": {
    "collapsed": false
   },
   "outputs": [],
   "source": [
    "import warnings\n",
    "\n",
    "def gdeltRangeString(element,coverage = None, version=2.0):\n",
    "    \"\"\"Takes a numpy datetime and converts to string\"\"\"\n",
    "    \n",
    "    ########################\n",
    "    # Numpy datetime to object\n",
    "    ########################\n",
    "\n",
    "    \n",
    "    ########################\n",
    "#     Current day check\n",
    "    ########################\n",
    "    \n",
    "    element = element.tolist()\n",
    "    \n",
    "    hour = datetime.datetime.now().hour     \n",
    "    multiplier = datetime.datetime.now().minute / 15\n",
    "    multiple = 15 * multiplier\n",
    "    conditioner =  multiplier +1\n",
    "    \n",
    "    \n",
    "    \n",
    "    if isinstance(element,list)==False:\n",
    "        \n",
    "        \n",
    "        if element.date() == datetime.datetime.now().date():\n",
    "            if coverage and int(version) !=1:\n",
    "                print \"coverage current\"\n",
    "                converted = np.array(\n",
    "                        map(\n",
    "                            lambda x: np.datetime64(parse(str(element)+\" \"+ x)\n",
    "                            ).tolist().strftime(\n",
    "                                                '%Y%m%d%H%M%S'\n",
    "                                                ),times[:hour*4+conditioner]))\n",
    "            else:\n",
    "                converted = datetime.datetime.now().replace(minute=multiple,second=0).strftime('%Y%m%d%H%M%S')\n",
    "                \n",
    "        else:\n",
    "            if coverage and int(version) !=1:\n",
    "                \n",
    "                converted = restOfDay = np.array(\n",
    "                map(\n",
    "                    lambda x: np.datetime64(parse(str(element)+\" \"+ x)\n",
    "                                           ).tolist().strftime(\n",
    "                        '%Y%m%d%H%M%S'\n",
    "                    ),times[:]))\n",
    "            else:\n",
    "            \n",
    "\n",
    "                converted = element.replace(minute=multiple,second=0).strftime('%Y%m%d%H%M%S')\n",
    "        \n",
    "        \n",
    "    #################################\n",
    "    # All non-current dates section\n",
    "    #################################    \n",
    "    \n",
    "    else:\n",
    "        \n",
    "        ####################\n",
    "        # Handling list\n",
    "        ####################  \n",
    "\n",
    "        if isinstance(element,list)==True:\n",
    "            \n",
    "#             converted = map(lambda x: x.strftime('%Y%m%d%H%M%S'),element)\n",
    "            converted = map(lambda x: (datetime.datetime.combine(x,datetime.time.min) + \n",
    "                datetime.timedelta(\n",
    "                                    minutes=45,hours=23\n",
    "                                    )\n",
    "                                   ).strftime('%Y%m%d%H%M%S'),element)\n",
    "        else:\n",
    "            print \"i'm here\"\n",
    "            converted = (datetime.datetime.combine(element,datetime.time.min) + \n",
    "                datetime.timedelta(\n",
    "                                    minutes=45,hours=23\n",
    "                                    )\n",
    "                                   ).strftime('%Y%m%d%H%M%S')\n",
    "        \n",
    "        ####################\n",
    "        # Return all 15 min intervals\n",
    "        # ignore this for version 1\n",
    "        #################### \n",
    "        if coverage and int(version) !=1:\n",
    "            \n",
    "            converted = []\n",
    "            for i in element:\n",
    " \n",
    "                converted.append(np.array(\n",
    "                map(\n",
    "                    lambda x: np.datetime64(parse(str(i)+\" \"+ x)\n",
    "                                           ).tolist().strftime(\n",
    "                        '%Y%m%d%H%M%S'\n",
    "                    ),times[:])))\n",
    "            converted = np.concatenate(converted,axis=0)\n",
    "            if len(converted.tolist())>=(3*192):\n",
    "                warnings.warn('\\n\\nThis query will download {0} files, and likely exhaust your memory with possibly 10s of GBs of data in this single query.  Hit Ctr-C to kill this query if you do not want to continue.'.format(len(converted.tolist())))\n",
    "    \n",
    "    ########################\n",
    "    # Version 1 Datestrings\n",
    "    #########################\n",
    "    if int(version)==1:\n",
    "        if isinstance(converted,list)==True:\n",
    "            print \"hey\"\n",
    "            converted = list(map(lambda x: np.where((parse(x) >= parse('2013 04 01')),parse(x).strftime('%Y%m%d%H%M%S')[:8],\n",
    "                      np.where((parse(x) <parse('2006 01 01') and (int(version)==1)),\n",
    "                               parse(x).strftime('%Y%m%d%H%M%S')[:4],parse(x).strftime('%Y%m%d%H%M%S')[:6]))\n",
    "                ,converted))\n",
    "            converted = map(lambda x: x.tolist(),converted)\n",
    "            converted = list(set(converted)) # account for duplicates\n",
    "        else:\n",
    "            converted = np.where((parse(converted) >= parse('2013 04 01')),parse(converted).strftime('%Y%m%d%H%M%S')[:8],\n",
    "                      np.where((parse(converted) <parse('2006 01 01') and (int(version)==1)),\n",
    "                               parse(converted).strftime('%Y%m%d%H%M%S')[:4],parse(converted).strftime('%Y%m%d%H%M%S')[:6])).tolist()\n",
    "\n",
    "\n",
    "            \n",
    "    return converted"
   ]
  },
  {
   "cell_type": "code",
   "execution_count": 113,
   "metadata": {
    "collapsed": false
   },
   "outputs": [
    {
     "name": "stdout",
     "output_type": "stream",
     "text": [
      "hey\n"
     ]
    },
    {
     "data": {
      "text/plain": [
       "['20160120', '20160403', '20150608', '20151225']"
      ]
     },
     "execution_count": 113,
     "metadata": {},
     "output_type": "execute_result"
    }
   ],
   "source": [
    "gdeltRangeString(dateRanger(date5),version=1)"
   ]
  },
  {
   "cell_type": "code",
   "execution_count": 108,
   "metadata": {
    "collapsed": false
   },
   "outputs": [
    {
     "name": "stderr",
     "output_type": "stream",
     "text": [
      "/Users/linwood/anaconda2/envs/gdelt_dev/lib/python2.7/site-packages/ipykernel/__main__.py:97: UserWarning: \n",
      "\n",
      "This query will download 1440 files, and likely exhaust your memory with possibly 10s of GBs of data in this single query.  Hit Ctr-C to kill this query if you do not want to continue.\n"
     ]
    }
   ],
   "source": [
    "# gdeltRangeString(dateRanger(['2013 01 18','2013 March 2']),version=1,coverage=True)\n",
    "b = gdeltRangeString(dateRanger(date3),version=2,coverage=True)"
   ]
  },
  {
   "cell_type": "code",
   "execution_count": 29,
   "metadata": {
    "collapsed": false
   },
   "outputs": [
    {
     "data": {
      "text/html": [
       "<div>\n",
       "<table border=\"1\" class=\"dataframe\">\n",
       "  <thead>\n",
       "    <tr style=\"text-align: right;\">\n",
       "      <th></th>\n",
       "      <th>0</th>\n",
       "    </tr>\n",
       "  </thead>\n",
       "  <tbody>\n",
       "    <tr>\n",
       "      <th>0</th>\n",
       "      <td>20161001</td>\n",
       "    </tr>\n",
       "    <tr>\n",
       "      <th>1</th>\n",
       "      <td>20161002</td>\n",
       "    </tr>\n",
       "    <tr>\n",
       "      <th>2</th>\n",
       "      <td>20161003</td>\n",
       "    </tr>\n",
       "  </tbody>\n",
       "</table>\n",
       "</div>"
      ],
      "text/plain": [
       "          0\n",
       "0  20161001\n",
       "1  20161002\n",
       "2  20161003"
      ]
     },
     "execution_count": 29,
     "metadata": {},
     "output_type": "execute_result"
    }
   ],
   "source": [
    "pd.DataFrame(gdeltRangeString(dateRanger(date3),version=1)[-3:])"
   ]
  },
  {
   "cell_type": "markdown",
   "metadata": {},
   "source": [
    "# Fixing the Dates so we don't need to download master"
   ]
  },
  {
   "cell_type": "code",
   "execution_count": 30,
   "metadata": {
    "collapsed": false
   },
   "outputs": [
    {
     "data": {
      "text/plain": [
       "['20160120234500', '20160403234500', '20150608234500', '20151225234500']"
      ]
     },
     "execution_count": 30,
     "metadata": {},
     "output_type": "execute_result"
    }
   ],
   "source": [
    "gdeltRangeString(dateRanger(date5),version=2)"
   ]
  },
  {
   "cell_type": "code",
   "execution_count": 31,
   "metadata": {
    "collapsed": false
   },
   "outputs": [
    {
     "name": "stdout",
     "output_type": "stream",
     "text": [
      "coverage current\n"
     ]
    }
   ],
   "source": [
    "urls2 = pd.DataFrame(gdeltRangeString(dateRanger(date),version=2,coverage=True))[0].apply(\n",
    "    lambda x: \"http://data.gdeltproject.org/gdeltv2/\"+x+\".export.CSV.zip\").values.tolist()"
   ]
  },
  {
   "cell_type": "code",
   "execution_count": 32,
   "metadata": {
    "collapsed": false
   },
   "outputs": [],
   "source": [
    "urls1 = pd.DataFrame(gdeltRangeString(dateRanger(date3),version=1)[-3:])[0].apply(\n",
    "    lambda x: \"http://data.gdeltproject.org/events/\"+x+\".export.CSV.zip\").values.tolist()"
   ]
  },
  {
   "cell_type": "code",
   "execution_count": 119,
   "metadata": {
    "collapsed": false
   },
   "outputs": [],
   "source": [
    "from functools import partial\n",
    "from io import BytesIO\n",
    "v1RangerCoverage = partial(gdeltRangeString,version=1,coverage=True)\n",
    "v2RangerCoverage = partial(gdeltRangeString,version=2,coverage=True)\n",
    "v1RangerNoCoverage = partial(gdeltRangeString,version=1,coverage=False)\n",
    "v2RangerNoCoverage = partial(gdeltRangeString,version=2,coverage=False)"
   ]
  },
  {
   "cell_type": "code",
   "execution_count": 34,
   "metadata": {
    "collapsed": false
   },
   "outputs": [],
   "source": [
    "# frame = pd.read_csv(BytesIO(r.content),compression='zip',sep='\\t',header=None)"
   ]
  },
  {
   "cell_type": "code",
   "execution_count": 35,
   "metadata": {
    "collapsed": false
   },
   "outputs": [],
   "source": [
    "# frame.head();"
   ]
  },
  {
   "cell_type": "code",
   "execution_count": null,
   "metadata": {
    "collapsed": false
   },
   "outputs": [],
   "source": []
  },
  {
   "cell_type": "code",
   "execution_count": 36,
   "metadata": {
    "collapsed": true
   },
   "outputs": [],
   "source": [
    "def parallelDownloader(h, w, max_iteration = 1000):\n",
    "    #make a helper function that better supports pool.map by using only 1 var\n",
    "    #This is necessary since the version\n",
    "    partialCalcRow = partial(mandelbrotCalcRow, h=h, w=w, max_iteration = max_iteration)\n",
    " \n",
    "    pool =multiprocessing.Pool() #creates a pool of process, controls worksers\n",
    "    #the pool.map only accepts one iterable, so use the partial function\n",
    "    #so that we only need to deal with one variable.\n",
    "    mandelImg = pool.map(partialCalcRow, xrange(h)) #make our results with a map call\n",
    "    pool.close() #we are not adding any more processes\n",
    "    pool.join() #tell it to wait until all threads are done before going on\n",
    "    \n",
    "    pool = Pool(processes = cpu_count())\n",
    "    results = list(pool.imap_unordered(mp_worker,urls2))\n",
    "    pool.close()\n",
    "    pool.join()\n",
    " \n",
    "    return mandelImg"
   ]
  },
  {
   "cell_type": "code",
   "execution_count": 37,
   "metadata": {
    "collapsed": false
   },
   "outputs": [],
   "source": [
    "# df = pd.concat(results).reset_index(drop=True)"
   ]
  },
  {
   "cell_type": "code",
   "execution_count": null,
   "metadata": {
    "collapsed": true
   },
   "outputs": [],
   "source": []
  },
  {
   "cell_type": "code",
   "execution_count": 78,
   "metadata": {
    "collapsed": false
   },
   "outputs": [],
   "source": [
    "def urlBuilder(dateString,version,table='events'):\n",
    "    '''\n",
    "    Takes date string from gdeltRange string and creates GDELT urls\n",
    "    \n",
    "    \n",
    "    Parameters\n",
    "    ------------\n",
    "    \n",
    "    table types:\n",
    "                * events and mentions (default)\n",
    "                * gkg\n",
    "                * mentions only\n",
    "    '''\n",
    "    if version == 2:\n",
    "        base = \"http://data.gdeltproject.org/gdeltv2/\"\n",
    "        \n",
    "    if version == 1:\n",
    "        base = \"http://data.gdeltproject.org/events/\"\n",
    "    \n",
    "    \n",
    "        \n",
    "    if table == \"events\":\n",
    "        caboose = \".export.CSV.zip\"\n",
    "    elif table == \"mentions\":\n",
    "        caboose = \".mentions.CSV.zip\"\n",
    "    elif table == \"gkg\":\n",
    "        caboose = \".gkg.csv.zip\"\n",
    "    else:\n",
    "        raise ValueError('You entered an incorrect GDELT table type.'\\\n",
    "                        ' Choose between \\\"events\\\",\\\"mentions\\\",and \\\"gkg\\\".')\n",
    "        \n",
    "   \n",
    "    if isinstance(dateString,list) == True or isinstance(dateString,np.ndarray)==True:\n",
    "        return map(lambda x: base+x+caboose,dateString)\n",
    "    elif isinstance(dateString,str)== True or len(dateString)==1:\n",
    "        if isinstance(dateString,list) == True or isinstance(dateString,np.ndarray)==True:\n",
    "            dateString = dateString[0]\n",
    "        return \"on the string\",base+dateString+caboose"
   ]
  },
  {
   "cell_type": "code",
   "execution_count": 116,
   "metadata": {
    "collapsed": true
   },
   "outputs": [],
   "source": [
    "from functools import partial\n",
    "\n",
    "version2Coverage = partial(gdeltRangeString,coverage=True,version=2)\n",
    "version2NoCoverage = partial(gdeltRangeString,coverage=None,version=2)\n",
    "version1 = partial(gdeltRangeString,version=1)"
   ]
  },
  {
   "cell_type": "code",
   "execution_count": 120,
   "metadata": {
    "collapsed": false
   },
   "outputs": [],
   "source": [
    "urlsv2mentions=partial(urlBuilder,version=2,table='mentions')\n",
    "urlsv1mentions=partial(urlBuilder,version=1,table ='mentions')\n",
    "urlsv2events=partial(urlBuilder,version=2,table='events')\n",
    "urlsv1events=partial(urlBuilder,version=1,table ='events')\n",
    "urlsv2gkg=partial(urlBuilder,version=2,table='gkg')"
   ]
  },
  {
   "cell_type": "code",
   "execution_count": 123,
   "metadata": {
    "collapsed": false
   },
   "outputs": [],
   "source": [
    "urlsv2events(v2RangerCoverage(dateRanger(date5)));"
   ]
  },
  {
   "cell_type": "code",
   "execution_count": 43,
   "metadata": {
    "collapsed": false
   },
   "outputs": [],
   "source": [
    "from io import BytesIO\n",
    "import requests\n",
    "import os\n",
    "from multiprocessing import Pool, current_process,cpu_count\n",
    "import datetime\n",
    "\n",
    "def mp_worker(url):\n",
    "    start = datetime.datetime.now()\n",
    "    proc_name = current_process().name\n",
    "    print multiprocessing.current_process().name\n",
    "    proc = os.getpid()\n",
    "    print ('Starting {0}-{1}'.format(proc_name,proc))\n",
    "    r = requests.get(url)\n",
    "    print multiprocessing.Process(name=multiprocessing.current_process().name).is_alive()\n",
    "    frame = pd.read_csv(BytesIO(r.content),compression='zip',sep='\\t',header=None)\n",
    "    end = datetime.datetime.now() - start\n",
    "    print \"{0} with id {1} finished processing in {2}\".format(proc_name,proc,end)\n",
    "    return frame"
   ]
  },
  {
   "cell_type": "code",
   "execution_count": 125,
   "metadata": {
    "collapsed": false
   },
   "outputs": [
    {
     "data": {
      "text/plain": [
       "u'http://data.gdeltproject.org/gdeltv2/20160120000000.export.CSV.zip'"
      ]
     },
     "execution_count": 125,
     "metadata": {},
     "output_type": "execute_result"
    }
   ],
   "source": [
    "r = requests.get('http://data.gdeltproject.org/gdeltv2/20160120000000.export.CSV.zip')\n",
    "r.url"
   ]
  },
  {
   "cell_type": "code",
   "execution_count": 51,
   "metadata": {
    "collapsed": false
   },
   "outputs": [
    {
     "name": "stdout",
     "output_type": "stream",
     "text": [
      "Once deleted, variables cannot be recovered. Proceed (y/[n])? y\n"
     ]
    }
   ],
   "source": [
    "%reset"
   ]
  },
  {
   "cell_type": "code",
   "execution_count": 114,
   "metadata": {
    "collapsed": false
   },
   "outputs": [
    {
     "ename": "NameError",
     "evalue": "name 'urlsv2gkg' is not defined",
     "output_type": "error",
     "traceback": [
      "\u001b[0;31m---------------------------------------------------------------------------\u001b[0m",
      "\u001b[0;31mNameError\u001b[0m                                 Traceback (most recent call last)",
      "\u001b[0;32m<ipython-input-114-68cb7f0a5ce6>\u001b[0m in \u001b[0;36m<module>\u001b[0;34m()\u001b[0m\n\u001b[0;32m----> 1\u001b[0;31m \u001b[0mdownloads\u001b[0m \u001b[0;34m=\u001b[0m \u001b[0murlsv2gkg\u001b[0m\u001b[0;34m(\u001b[0m\u001b[0mv2RangerNoCoverage\u001b[0m\u001b[0;34m(\u001b[0m\u001b[0mdateRanger\u001b[0m\u001b[0;34m(\u001b[0m\u001b[0mdate5\u001b[0m\u001b[0;34m)\u001b[0m\u001b[0;34m)\u001b[0m\u001b[0;34m)\u001b[0m\u001b[0;34m\u001b[0m\u001b[0m\n\u001b[0m",
      "\u001b[0;31mNameError\u001b[0m: name 'urlsv2gkg' is not defined"
     ]
    }
   ],
   "source": [
    "downloads = urlsv2gkg(v2RangerNoCoverage(dateRanger(date5)))"
   ]
  },
  {
   "cell_type": "code",
   "execution_count": 48,
   "metadata": {
    "collapsed": false,
    "scrolled": false
   },
   "outputs": [
    {
     "name": "stdout",
     "output_type": "stream",
     "text": [
      "PoolWorker-6\n",
      "PoolWorker-5\n",
      "PoolWorker-8\n",
      "Starting PoolWorker-6-2741\n",
      "PoolWorker-7\n",
      "Starting PoolWorker-5-2740\n",
      "Starting PoolWorker-7-2742\n",
      "Starting PoolWorker-8-2743\n",
      "False\n",
      "PoolWorker-8 with id 2743 finished processing in 0:00:01.475307\n",
      "False\n",
      "False\n",
      "PoolWorker-6 with id 2741 finished processing in 0:00:02.756037\n",
      "False\n",
      "PoolWorker-7 with id 2742 finished processing in 0:00:03.099380\n",
      "PoolWorker-5 with id 2740 finished processing in 0:00:04.109154\n"
     ]
    }
   ],
   "source": [
    "import multiprocessing\n",
    "\n",
    "pool = Pool(processes = cpu_count())\n",
    "\n",
    "results = list(pool.imap_unordered(mp_worker,downloads))\n",
    "\n",
    "\n",
    "pool.close()\n",
    "pool.terminate()\n",
    "pool.join()\n",
    "\n",
    "\n",
    "answer = pd.concat(results)"
   ]
  },
  {
   "cell_type": "code",
   "execution_count": 50,
   "metadata": {
    "collapsed": false
   },
   "outputs": [
    {
     "name": "stdout",
     "output_type": "stream",
     "text": [
      "None\n"
     ]
    }
   ],
   "source": [
    "print pool.terminate()"
   ]
  },
  {
   "cell_type": "code",
   "execution_count": 46,
   "metadata": {
    "collapsed": false
   },
   "outputs": [],
   "source": [
    "answers = pd.concat(results)\n",
    "del results"
   ]
  },
  {
   "cell_type": "code",
   "execution_count": 47,
   "metadata": {
    "collapsed": false
   },
   "outputs": [
    {
     "name": "stdout",
     "output_type": "stream",
     "text": [
      "<class 'pandas.core.frame.DataFrame'>\n",
      "Int64Index: 8918 entries, 0 to 3623\n",
      "Data columns (total 27 columns):\n",
      "0     8918 non-null object\n",
      "1     8918 non-null int64\n",
      "2     8918 non-null int64\n",
      "3     8917 non-null object\n",
      "4     8918 non-null object\n",
      "5     1189 non-null object\n",
      "6     1189 non-null object\n",
      "7     7981 non-null object\n",
      "8     7981 non-null object\n",
      "9     7061 non-null object\n",
      "10    7052 non-null object\n",
      "11    7075 non-null object\n",
      "12    6993 non-null object\n",
      "13    6766 non-null object\n",
      "14    6540 non-null object\n",
      "15    8918 non-null object\n",
      "16    4303 non-null object\n",
      "17    8918 non-null object\n",
      "18    5898 non-null object\n",
      "19    1330 non-null object\n",
      "20    158 non-null object\n",
      "21    1964 non-null object\n",
      "22    1888 non-null object\n",
      "23    8590 non-null object\n",
      "24    6857 non-null object\n",
      "25    0 non-null float64\n",
      "26    0 non-null float64\n",
      "dtypes: float64(2), int64(2), object(23)\n",
      "memory usage: 1.9+ MB\n"
     ]
    }
   ],
   "source": [
    "answers.info()"
   ]
  },
  {
   "cell_type": "code",
   "execution_count": null,
   "metadata": {
    "collapsed": true
   },
   "outputs": [],
   "source": [
    "pool = Pool(processes = cpu_count())\n",
    "%time results = list(pool.imap_unordered(requests.get,urlsv2gkg(v2RangerNoCoverage(dateRanger(date5)))))\n",
    "pool.close()\n",
    "pool.join()"
   ]
  },
  {
   "cell_type": "code",
   "execution_count": 205,
   "metadata": {
    "collapsed": false
   },
   "outputs": [],
   "source": [
    "r = requests.get('http://data.gdeltproject.org/gdeltv2/20160313000000.mentions.CSV.zip')\n",
    "df = pd.read_csv(BytesIO(r.content),compression='zip',sep='\\t',header=None)"
   ]
  },
  {
   "cell_type": "code",
   "execution_count": null,
   "metadata": {
    "collapsed": false
   },
   "outputs": [],
   "source": [
    "urls = []\n",
    "if isinstance(b,list):\n",
    "    print map(lambda x: urlBuilder(x,version=1),b)\n",
    "elif isinstance(b,str):\n",
    "    print urlBuilder(b,version=1)\n",
    "\n",
    "# for l in b:\n",
    "    \n",
    "#     urls.append(urlBuilder(l,'events',version=1))"
   ]
  },
  {
   "cell_type": "code",
   "execution_count": null,
   "metadata": {
    "collapsed": false
   },
   "outputs": [],
   "source": [
    "import pandas as pd\n",
    "from io import BytesIO\n",
    "import requests \n",
    "\n",
    "dfs = []\n",
    "for l in urls:\n",
    "    r = requests.get(l)\n",
    "    try:\n",
    "        frame = pd.read_csv(BytesIO(r.content),compression='zip',sep = '\\t',header=None)\n",
    "        dfs.append(frame)\n",
    "        print frame.shape\n",
    "        del frame\n",
    "    except:\n",
    "        pass\n",
    "    \n",
    "df = pd.concat(dfs)"
   ]
  },
  {
   "cell_type": "code",
   "execution_count": null,
   "metadata": {
    "collapsed": false
   },
   "outputs": [],
   "source": [
    "import multiprocessing as mp\n",
    "import itertools\n",
    "import time\n",
    "\n",
    "\n",
    "def g():\n",
    "    for el in xrange(50):\n",
    "        print el\n",
    "        yield el\n",
    "\n",
    "\n",
    "def f(x):\n",
    "    time.sleep(1)\n",
    "    return x * x\n",
    "\n",
    "if __name__ == '__main__':\n",
    "    pool = mp.Pool(processes=4)              # start 4 worker processes\n",
    "    go = g()\n",
    "    result = []\n",
    "    N = 11\n",
    "    while True:\n",
    "        g2 = pool.map(f, itertools.islice(go, N))\n",
    "        if g2:\n",
    "            result.extend(g2)\n",
    "            time.sleep(1)\n",
    "        else:\n",
    "            break\n",
    "    print(result)"
   ]
  },
  {
   "cell_type": "code",
   "execution_count": null,
   "metadata": {
    "collapsed": false
   },
   "outputs": [],
   "source": [
    "result"
   ]
  },
  {
   "cell_type": "code",
   "execution_count": null,
   "metadata": {
    "collapsed": false
   },
   "outputs": [],
   "source": [
    "import pandas as pd\n",
    "df = pd.read_csv(urls[0], compression='zip',sep='\\t',header=None)"
   ]
  },
  {
   "cell_type": "code",
   "execution_count": null,
   "metadata": {
    "collapsed": false
   },
   "outputs": [],
   "source": [
    "from blaze import data\n",
    "import dask.dataframe as dd\n",
    "import dask.bag as db\n",
    "from dask import delayed"
   ]
  },
  {
   "cell_type": "code",
   "execution_count": null,
   "metadata": {
    "collapsed": false
   },
   "outputs": [],
   "source": [
    "def reader(filename):\n",
    "    return pd.read_csv(filename,compression='zip',sep='\\t',header=None)\n",
    "\n",
    "# build list of delayed pandas csv reads; then read in as dask dataframe\n",
    "\n",
    "# dfs = [delayed(reader)(fn) for fn in urls]\n",
    "# df = dd.from_delayed(dfs)"
   ]
  },
  {
   "cell_type": "code",
   "execution_count": null,
   "metadata": {
    "collapsed": false
   },
   "outputs": [],
   "source": [
    "urls[:20]"
   ]
  },
  {
   "cell_type": "code",
   "execution_count": null,
   "metadata": {
    "collapsed": true
   },
   "outputs": [],
   "source": [
    "r = requests.get('http://data.gdeltproject.org/gdeltv2/20160313044500.export.CSV.zip')"
   ]
  },
  {
   "cell_type": "code",
   "execution_count": null,
   "metadata": {
    "collapsed": false
   },
   "outputs": [],
   "source": [
    "from io import BytesIO\n",
    "\n",
    "df = pd.read_csv(BytesIO(r.content),compression='zip',sep='\\t',header = None)"
   ]
  },
  {
   "cell_type": "code",
   "execution_count": null,
   "metadata": {
    "collapsed": false
   },
   "outputs": [],
   "source": [
    "df.head()"
   ]
  },
  {
   "cell_type": "code",
   "execution_count": null,
   "metadata": {
    "collapsed": false
   },
   "outputs": [],
   "source": [
    "for l in urls"
   ]
  },
  {
   "cell_type": "code",
   "execution_count": null,
   "metadata": {
    "collapsed": false
   },
   "outputs": [],
   "source": [
    "import multiprocessing as mp\n",
    "pool = mp.Pool()\n",
    "results = list(pool.imap_unordered(mp_worker, urls))\n",
    "pool.close()\n",
    "pool.join()"
   ]
  },
  {
   "cell_type": "markdown",
   "metadata": {},
   "source": [
    "# Parallel Download Code"
   ]
  },
  {
   "cell_type": "code",
   "execution_count": null,
   "metadata": {
    "collapsed": false,
    "scrolled": false
   },
   "outputs": [],
   "source": [
    "import multiprocessing\n",
    "import time\n",
    "import zipfile\n",
    "import requests\n",
    "from io import BytesIO\n",
    "\n",
    "\n",
    "\n",
    "def mp_worker(url):\n",
    "    start = datetime.datetime.now()\n",
    "    r = requests.get(url)\n",
    "    frame = pd.read_csv(BytesIO(r.content),compression='zip',sep='\\t',header=None)\n",
    "    end = datetime.datetime.now() - start\n",
    "    return frame\n",
    "    \n",
    "    \n",
    "\n",
    "def mp_handler():\n",
    "    result = []\n",
    "    p = multiprocessing.Pool(4)\n",
    "    dfs = p.imap_unordered(mp_worker,urls)\n",
    "    if dfs:\n",
    "        try:\n",
    "            result.extend(dfs)\n",
    "            time.sleep(1)\n",
    "        except:\n",
    "            pass\n",
    "        \n",
    "    else:\n",
    "        pass\n",
    "    return result\n",
    "\n",
    "if __name__ == '__main__':\n",
    "#     answer = mp_handler()\n",
    "    mp_handler()\n",
    "    \n",
    "    \n",
    "    \n",
    "    \n",
    "# http://stackoverflow.com/questions/5318936/python-multiprocessing-pool-lazy-iteration    \n",
    "# http://stackoverflow.com/questions/20577472/how-to-keep-track-of-asynchronous-results-returned-from-a-multiprocessing-pool"
   ]
  },
  {
   "cell_type": "code",
   "execution_count": null,
   "metadata": {
    "collapsed": false
   },
   "outputs": [],
   "source": [
    "import numpy as np\n",
    "from dateutil.parser import parse\n",
    "import datetime\n",
    "\n",
    "dates=['2016 10 17','2016 10 11']\n",
    "dates2 = np.arange('2016-10-11','2016-10-18',dtype='datetime64[D]')\n",
    "\n",
    "\n",
    "if np.all(np.logical_not(np.array(map(parse, dates)) > datetime.datetime.now())) == False:\n",
    "    print \"Yes\"\n",
    "    \n",
    "else:\n",
    "    print \"No\""
   ]
  },
  {
   "cell_type": "code",
   "execution_count": null,
   "metadata": {
    "collapsed": false
   },
   "outputs": [],
   "source": [
    "np.array(map(lambda x: parse(x),dates),dtype='datetime64[D]')"
   ]
  },
  {
   "cell_type": "code",
   "execution_count": null,
   "metadata": {
    "collapsed": false
   },
   "outputs": [],
   "source": [
    "np.all(np.logical_not(np.array(map(lambda x: parse(x),dates),dtype='datetime64[D]') >= np.datetime64(datetime.datetime.now().date())))"
   ]
  },
  {
   "cell_type": "code",
   "execution_count": null,
   "metadata": {
    "collapsed": false
   },
   "outputs": [],
   "source": [
    "(datetime.datetime.now() + datetime.timedelta(days=+1))"
   ]
  },
  {
   "cell_type": "code",
   "execution_count": null,
   "metadata": {
    "collapsed": false
   },
   "outputs": [],
   "source": [
    "np.datetime64(datetime.datetime.now().date()) - np.timedelta64(1,'D')"
   ]
  },
  {
   "cell_type": "code",
   "execution_count": null,
   "metadata": {
    "collapsed": false
   },
   "outputs": [],
   "source": [
    "df.info()"
   ]
  },
  {
   "cell_type": "code",
   "execution_count": null,
   "metadata": {
    "collapsed": false
   },
   "outputs": [],
   "source": [
    "from multiprocessing import Pool\n",
    "from io import BytesIO\n",
    "import pandas as pd\n",
    "import requests\n",
    "\n",
    "def mp_worker(url):\n",
    "    start = datetime.datetime.now()\n",
    "    r = requests.get(url)\n",
    "    try:\n",
    "        frame = pd.read_csv(BytesIO(r.content),compression='zip',sep='\\t',header=None)\n",
    "    except:\n",
    "        pass\n",
    "    end = datetime.datetime.now() - start\n",
    "    return frame\n",
    "\n",
    "\n",
    "def parallelDownload(function,urlList):\n",
    "    p = Pool()\n",
    "    results = []\n",
    "    rs = p.imap_unordered(function, urlList)\n",
    "    for frame in rs:\n",
    "        try:\n",
    "            results.append(frame)\n",
    "        except:\n",
    "            pass\n",
    "    # print results\n",
    "    # print results[0].head()\n",
    "    return pd.concat(results).reset_index(drop=True)\n",
    "\n",
    "if __name__ == '__main__':\n",
    "    b = parallelDownload(mp_worker,urls)\n",
    "    p.join()\n",
    "    p.close()"
   ]
  },
  {
   "cell_type": "code",
   "execution_count": null,
   "metadata": {
    "collapsed": false
   },
   "outputs": [],
   "source": [
    "b[0]"
   ]
  },
  {
   "cell_type": "code",
   "execution_count": null,
   "metadata": {
    "collapsed": false
   },
   "outputs": [],
   "source": [
    "import multiprocessing\n",
    "from io import BytesIO\n",
    "import pandas as pd\n",
    "import requests\n",
    "\n",
    "def worker():\n",
    "    r.con\n",
    "    \"\"\"worker function\"\"\"\n",
    "    print 'Worker'\n",
    "    return\n",
    "\n",
    "if __name__ == '__main__':\n",
    "    jobs = []\n",
    "    for i in range(5):\n",
    "        p = multiprocessing.Process(target=worker)\n",
    "        jobs.append(p)\n",
    "        p.start()"
   ]
  },
  {
   "cell_type": "code",
   "execution_count": null,
   "metadata": {
    "collapsed": false,
    "scrolled": false
   },
   "outputs": [],
   "source": [
    "dfs = easy_parallize(mp_worker,urls)"
   ]
  },
  {
   "cell_type": "code",
   "execution_count": null,
   "metadata": {
    "collapsed": false
   },
   "outputs": [],
   "source": [
    "from multiprocessing.pool import Pool\n",
    "#from multiprocessing.pool import ThreadPool as Pool  # to use threads\n",
    "\n",
    "with multiprocessing.Pool() as pool:\n",
    "    answers = []\n",
    "    for i in urls:\n",
    "        result1 = pool.apply_async(mp_worker, i)\n",
    "        answers.append(result1.get())"
   ]
  },
  {
   "cell_type": "code",
   "execution_count": null,
   "metadata": {
    "collapsed": false
   },
   "outputs": [],
   "source": [
    "ddf = dd.read_csv('/Users/linwood/Downloads/20150218230000.export.CSV.zip',sep='\\t',header=None)"
   ]
  },
  {
   "cell_type": "code",
   "execution_count": null,
   "metadata": {
    "collapsed": false
   },
   "outputs": [],
   "source": [
    "table = ''\n",
    "\n",
    "if table == 'events' or table == '' or table == 'mentions':\n",
    "    print \"Yes\"\n",
    "elif table == 'gkg':\n",
    "    print \"gkg\"\n",
    "else:\n",
    "    print \"You have entered a wrong table\""
   ]
  },
  {
   "cell_type": "code",
   "execution_count": null,
   "metadata": {
    "collapsed": false
   },
   "outputs": [],
   "source": [
    "hour = datetime.datetime.now().hour\n",
    "multiplier = datetime.datetime.now().minute / 15\n",
    "multiple = 15 * multiplier\n",
    "conditioner = multiplier +1\n",
    "np.array(map(lambda x: np.datetime64(parse(str(dateRanger(date3)[-1])+\" \" + x)).tolist().strftime('%Y%m%d%H%M%S'),times[:hour*4+conditioner])).tolist()"
   ]
  },
  {
   "cell_type": "code",
   "execution_count": null,
   "metadata": {
    "collapsed": false
   },
   "outputs": [],
   "source": [
    "gdeltRangeString(dateRanger(['2016 Oct 1 10:32']).tolist())"
   ]
  },
  {
   "cell_type": "code",
   "execution_count": null,
   "metadata": {
    "collapsed": false
   },
   "outputs": [],
   "source": [
    "minutes =(map(str,range(00,60,15)))\n",
    "hours = (map(str,range(0,24)))\n",
    "times =[]\n",
    "for l in hours:\n",
    "    if int(l)<10:\n",
    "        l=\"0\"+l\n",
    "    for k in minutes:\n",
    "        if k == \"0\":\n",
    "            k='00'\n",
    "        times.append('{0}:{1}'.format(l,k))"
   ]
  },
  {
   "cell_type": "code",
   "execution_count": null,
   "metadata": {
    "collapsed": false
   },
   "outputs": [],
   "source": [
    "vectorizer(gdeltRangeString,test)"
   ]
  },
  {
   "cell_type": "code",
   "execution_count": null,
   "metadata": {
    "collapsed": false
   },
   "outputs": [],
   "source": [
    "np.datetime64(parse('2016 10 14'),dtype='M8[h]').tolist()"
   ]
  },
  {
   "cell_type": "markdown",
   "metadata": {},
   "source": [
    "### Working Examples for Single Date Functionality"
   ]
  },
  {
   "cell_type": "code",
   "execution_count": null,
   "metadata": {
    "collapsed": false
   },
   "outputs": [],
   "source": [
    "date = '2016 9 12'\n",
    "\n",
    "gdeltRangeString(np.datetime64(parse('2016 10 14')).tolist())"
   ]
  },
  {
   "cell_type": "markdown",
   "metadata": {},
   "source": [
    "### Working Examples of Date Range Functionality"
   ]
  },
  {
   "cell_type": "code",
   "execution_count": null,
   "metadata": {
    "collapsed": false
   },
   "outputs": [],
   "source": [
    "date=['2016 09 01','2016 09 24']\n",
    "(dateRanger(date))"
   ]
  },
  {
   "cell_type": "code",
   "execution_count": null,
   "metadata": {
    "collapsed": false
   },
   "outputs": [],
   "source": [
    "# converts to gd\n",
    "datesToPull = vectorizer(gdeltRangeString,dateRanger(['2016 Oct 13','2016 Oct 15']))"
   ]
  },
  {
   "cell_type": "code",
   "execution_count": null,
   "metadata": {
    "collapsed": false
   },
   "outputs": [],
   "source": [
    "datesToPull"
   ]
  },
  {
   "cell_type": "code",
   "execution_count": null,
   "metadata": {
    "collapsed": false
   },
   "outputs": [],
   "source": [
    "masterdf[masterdf[2].str.contains(datesToPull)]"
   ]
  },
  {
   "cell_type": "code",
   "execution_count": null,
   "metadata": {
    "collapsed": false
   },
   "outputs": [],
   "source": [
    "# gets the urls from array\n",
    "resultMaster = vectorizedUrlFinder(UrlFinder,datesToPull)"
   ]
  },
  {
   "cell_type": "markdown",
   "metadata": {},
   "source": [
    "## Testing Area for Dates; Above is good, below is experimental"
   ]
  },
  {
   "cell_type": "code",
   "execution_count": null,
   "metadata": {
    "collapsed": false
   },
   "outputs": [],
   "source": [
    "tblCheck('gkg')"
   ]
  },
  {
   "cell_type": "code",
   "execution_count": null,
   "metadata": {
    "collapsed": false
   },
   "outputs": [],
   "source": [
    "test2.reset_index(drop=True,inplace=True)"
   ]
  },
  {
   "cell_type": "code",
   "execution_count": null,
   "metadata": {
    "collapsed": false
   },
   "outputs": [],
   "source": [
    "datesToPull"
   ]
  },
  {
   "cell_type": "markdown",
   "metadata": {},
   "source": [
    "*****************\n",
    "\n",
    "## Munging Data: Extracting Specific Datasets or all of them\n",
    "\n",
    "Work with the returned GDELT data.  Specific whether we are pulling the `mentions`, `events`, or `gkg` date for the day or all.  "
   ]
  },
  {
   "cell_type": "code",
   "execution_count": null,
   "metadata": {
    "collapsed": false
   },
   "outputs": [],
   "source": [
    "results = match_date(gdelt_timeString(dateInputCheck(date)))"
   ]
  },
  {
   "cell_type": "code",
   "execution_count": null,
   "metadata": {
    "collapsed": false
   },
   "outputs": [],
   "source": [
    "target = results[2][results[2].str.contains('export')].reset_index(drop=True).ix[0]"
   ]
  },
  {
   "cell_type": "code",
   "execution_count": null,
   "metadata": {
    "collapsed": false
   },
   "outputs": [],
   "source": [
    "target"
   ]
  },
  {
   "cell_type": "code",
   "execution_count": null,
   "metadata": {
    "collapsed": false
   },
   "outputs": [],
   "source": [
    "#############################################\n",
    "# GDELT data download and extraction\n",
    "#############################################\n",
    "\n",
    "from StringIO import StringIO\n",
    "import pandas as pd\n",
    "import requests\n",
    "import zipfile\n",
    "import re\n",
    "\n",
    "def downloadAndExtract(gdeltUrl):\n",
    "    \"\"\"Downloads and extracts GDELT zips without saving to disk\"\"\"\n",
    "    \n",
    "    response = requests.get(gdeltUrl, stream=True)\n",
    "    zipdata = StringIO()\n",
    "    zipdata.write(response.content)\n",
    "    gdelt_zipfile = zipfile.ZipFile(zipdata,'r')\n",
    "    name = re.search('(([\\d]{4,}).*)',gdelt_zipfile.namelist()[0]).group().replace('.zip',\"\")\n",
    "    data = gdelt_zipfile.read(name)\n",
    "    gdelt_zipfile.close()\n",
    "    del zipdata,gdelt_zipfile,name,response\n",
    "    return pd.read_csv(StringIO(data),delimiter='\\t',header=None)\n",
    "    \n",
    "\n",
    "def add_header(gdeltUrl):\n",
    "    \"\"\"Returns the header rows for the dataframe\"\"\"\n",
    "    \n",
    "    dbType = re.search(\n",
    "        '(mentions|export|gkg)',\n",
    "        gdeltUrl\n",
    "        ).group()\n",
    "    \n",
    "    if dbType == \"gkg\":\n",
    "        headers = gkgHeaders.tableId.tolist()\n",
    "    \n",
    "    elif dbType == \"mentions\":\n",
    "        headers = mentionsHeaders.tableId.tolist()\n",
    "        \n",
    "    elif dbType == \"export\":\n",
    "        headers = eventsDbHeaders.tableId.tolist()\n",
    "        \n",
    "    return headers"
   ]
  },
  {
   "cell_type": "code",
   "execution_count": null,
   "metadata": {
    "collapsed": false
   },
   "outputs": [],
   "source": [
    "target = 'http://data.gdeltproject.org/gdeltv2/20160924150000.export.CSV.zip'"
   ]
  },
  {
   "cell_type": "code",
   "execution_count": null,
   "metadata": {
    "collapsed": false
   },
   "outputs": [],
   "source": [
    "gdelt_df = downloadAndExtract(target)\n",
    "gdelt_df.columns = add_header(target)\n",
    "gdelt_df.info()"
   ]
  },
  {
   "cell_type": "code",
   "execution_count": null,
   "metadata": {
    "collapsed": false
   },
   "outputs": [],
   "source": [
    "mast"
   ]
  },
  {
   "cell_type": "code",
   "execution_count": null,
   "metadata": {
    "collapsed": false
   },
   "outputs": [],
   "source": [
    "combined = gdelt_df.merge(gdelt_df2,how='outer',on='GLOBALEVENTID')"
   ]
  },
  {
   "cell_type": "code",
   "execution_count": null,
   "metadata": {
    "collapsed": false
   },
   "outputs": [],
   "source": [
    "combined.info()"
   ]
  },
  {
   "cell_type": "code",
   "execution_count": null,
   "metadata": {
    "collapsed": false
   },
   "outputs": [],
   "source": [
    "combined.columns"
   ]
  },
  {
   "cell_type": "code",
   "execution_count": null,
   "metadata": {
    "collapsed": false
   },
   "outputs": [],
   "source": [
    "# combined.[(combined.Confidence != None) & (combined.MonthYear != None)]\n",
    "combined[['Actor1Code','Actor1Name']][(combined.GoldsteinScale <= -5.2) & (combined.Actor1Code != \"\")].fillna('')"
   ]
  },
  {
   "cell_type": "markdown",
   "metadata": {},
   "source": [
    "# Early Pipeline to Write out R Dataframe\n",
    "\n",
    "\n",
    "Ways to install\n",
    "```python\n",
    "pip install feather-format\n",
    "```\n",
    "\n",
    "```bash\n",
    "conda install feather-format -c conda-forge\n",
    "```\n",
    "\n",
    "\n",
    "###  **IT WORKS!!!**"
   ]
  },
  {
   "cell_type": "code",
   "execution_count": null,
   "metadata": {
    "collapsed": false
   },
   "outputs": [],
   "source": [
    "import feather\n",
    "path = 'my_data.feather'\n",
    "feather.api.write_dataframe(testdf, path)\n",
    "newtestdf = feather.api.read_dataframe(path)"
   ]
  },
  {
   "cell_type": "markdown",
   "metadata": {},
   "source": [
    "# Leftovers; Junkyard below (stuff to work on)"
   ]
  },
  {
   "cell_type": "code",
   "execution_count": null,
   "metadata": {
    "collapsed": false
   },
   "outputs": [],
   "source": [
    "results = masterListdf[masterListdf[2].str.contains(gdelt_timeString(dateInputCheck(date)))==True]"
   ]
  },
  {
   "cell_type": "code",
   "execution_count": null,
   "metadata": {
    "collapsed": false
   },
   "outputs": [],
   "source": [
    "results[2].reset_index().ix[0][2]"
   ]
  },
  {
   "cell_type": "code",
   "execution_count": null,
   "metadata": {
    "collapsed": false
   },
   "outputs": [],
   "source": [
    "results[results[2].str.contains('gkg')]"
   ]
  },
  {
   "cell_type": "code",
   "execution_count": null,
   "metadata": {
    "collapsed": false
   },
   "outputs": [],
   "source": [
    "gdelt_timeString(dateInputCheck(date))"
   ]
  },
  {
   "cell_type": "code",
   "execution_count": null,
   "metadata": {
    "collapsed": false
   },
   "outputs": [],
   "source": [
    "import re\n",
    "from dateutil.parser import parse\n",
    "re.search('(([\\d]{4,}).*)',clean[20][-1]).group()"
   ]
  },
  {
   "cell_type": "code",
   "execution_count": null,
   "metadata": {
    "collapsed": false
   },
   "outputs": [],
   "source": [
    "if bool(4>3):\n",
    "    print \"Hello\""
   ]
  },
  {
   "cell_type": "code",
   "execution_count": null,
   "metadata": {
    "collapsed": false
   },
   "outputs": [],
   "source": [
    "(datetime.datetime.now().replace(hour=0,minute=0,second=0,microsecond=0)) == parse(\"2016 09 18\" )"
   ]
  },
  {
   "cell_type": "code",
   "execution_count": null,
   "metadata": {
    "collapsed": false
   },
   "outputs": [],
   "source": [
    "b = dateutil.parser.parse(re.search('([\\d]{4,})',clean[20][-1]).group())"
   ]
  },
  {
   "cell_type": "code",
   "execution_count": null,
   "metadata": {
    "collapsed": false
   },
   "outputs": [],
   "source": [
    "matchDate = re.search('([\\d]{4,})',clean[20][-1]).group()"
   ]
  },
  {
   "cell_type": "code",
   "execution_count": null,
   "metadata": {
    "collapsed": true
   },
   "outputs": [],
   "source": [
    "def time_change(current,diff):\n",
    "    date = current.replace(minute=0, second=0) + timedelta(minutes=diff)\n",
    "    return date.strftime(\"%Y%m%d%H%M%S\")"
   ]
  },
  {
   "cell_type": "code",
   "execution_count": null,
   "metadata": {
    "collapsed": false
   },
   "outputs": [],
   "source": [
    "# pulling most current daily report\n",
    "\n",
    "import numpy as np\n",
    "import datetime\n",
    "from datetime import timedelta\n",
    "\n",
    "currentTime = datetime.datetime.now()\n",
    "timeDiff = currentTime.minute / 15 \n",
    "\n",
    "query = np.where(timeDiff == 1,time_change(currentTime,diff=15),\n",
    "        np.where(timeDiff == 2, time_change(currentTime,diff=30),\n",
    "                 np.where(timeDiff == 3, time_change(currentTime,diff=45),\n",
    "                          time_change(currentTime,diff=0))))\n",
    "\n",
    "baseUrl = 'http://data.gdeltproject.org/gdeltv2/' + str(query) + '.export.CSV.zip'"
   ]
  },
  {
   "cell_type": "code",
   "execution_count": null,
   "metadata": {
    "collapsed": false
   },
   "outputs": [],
   "source": [
    "data"
   ]
  },
  {
   "cell_type": "code",
   "execution_count": null,
   "metadata": {
    "collapsed": false
   },
   "outputs": [],
   "source": [
    "myzipfile.namelist()"
   ]
  },
  {
   "cell_type": "code",
   "execution_count": null,
   "metadata": {
    "collapsed": false
   },
   "outputs": [],
   "source": [
    "import zipfile\n",
    "\n",
    "\n",
    "r = requests.get(baseUrl, stream=True)\n",
    "\n",
    "# with open('gdelt.zip', 'wb') as f:\n",
    "#     f.write(r.content)\n",
    "# fh = open('gdelt.zip')\n",
    "# g = zipfile.ZipFile(fh)\n",
    "# g.extractall()\n",
    "\n",
    "from StringIO import StringIO\n",
    "zipdata = StringIO()\n",
    "zipdata.write(r.content)\n",
    "myzipfile = zipfile.ZipFile(zipdata,'r')\n",
    "data = myzipfile.read(str(query) + '.export.CSV')\n",
    "gdeltdf = pd.read_csv(StringIO(data),delimiter='\\t',header=None)"
   ]
  },
  {
   "cell_type": "code",
   "execution_count": null,
   "metadata": {
    "collapsed": false
   },
   "outputs": [],
   "source": [
    "gdeltdf.columns=headers.tableId.tolist()"
   ]
  },
  {
   "cell_type": "code",
   "execution_count": null,
   "metadata": {
    "collapsed": false
   },
   "outputs": [],
   "source": [
    "gdeltdf.SOURCEURL[((gdeltdf.ActionGeo_CountryCode =='SY')|(gdeltdf.ActionGeo_CountryCode =='IZ')) & (gdeltdf.GoldsteinScale < -4)]"
   ]
  },
  {
   "cell_type": "code",
   "execution_count": null,
   "metadata": {
    "collapsed": true
   },
   "outputs": [],
   "source": [
    "text = '''\n",
    "GLOBALEVENTID\tINTEGER\tNULLABLE\tThis is the ID of the event that was mentioned in the article.\n",
    "EventTimeDate\tINTEGER\tNULLABLE\tThis is the 15-minute timestamp (YYYYMMDDHHMMSS) when the event being mentioned was first recorded by GDELT (the DATEADDED field of the original event record).  This field can be compared against the next one to identify events being mentioned for the first time (their first mentions) or to identify events of a particular vintage being mentioned now (such as filtering for mentions of events at least one week old).\n",
    "MentionTimeDate\tINTEGER\tNULLABLE\tThis is the 15-minute timestamp (YYYYMMDDHHMMSS) of the current update.  This is identical for all entries in the update file but is included to make it easier to load the Mentions table into a database.\n",
    "MentionType\tINTEGER\tNULLABLE\tThis is a numeric identifier that refers to the source collection the document came from and is used to interpret the MentionIdentifier in the next column.  In essence, it specifies how to interpret the MentionIdentifier to locate the actual document.  At present, it can hold one of the following values:o 1 = WEB (The document originates from the open web and the MentionIdentifier is a fully-qualified URL that can be used to access the document on the web).o 2 = CITATIONONLY (The document originates from a broadcast, print, or other offline source in which only a textual citation is available for the document.  In this case the MentionIdentifier contains the textual citation for the document).o 3 = CORE (The document originates from the CORE archive and the MentionIdentifier contains its DOI, suitable for accessing the original document through the CORE website).o 4 = DTIC (The document originates from the DTIC archive and the MentionIdentifier contains its DOI, suitable for accessing the original document through the DTIC website).o 5 = JSTOR (The document originates from the JSTOR archive and the MentionIdentifier contains its DOI, suitable for accessing the original document through your JSTOR subscription if your institution subscribes to it).o 6 = NONTEXTUALSOURCE (The document originates from a textual proxy (such as closed captioning) of a non-textual information source (such as a video) available via a URL and the MentionIdentifier provides the URL of the non-textual original source.  At present, this Collection Identifier is used for processing of the closed captioning streams of the Internet Archive Television News Archive in which each broadcast is available via a URL, but the URL offers access only to the video of the broadcast and does not provide any access to the textual closed captioning used to generate the metadata.  This code is used in order to draw a distinction between URL-based textual material (Collection Identifier 1 (WEB) and URL-based non-textual material like the Television News Archive).\n",
    "MentionSourceName\tSTRING\tNULLABLE\tThis is a human-friendly identifier of the source of the document.  For material originating from the open web with a URL this field will contain the top-level domain the page was from.  For BBC Monitoring material it will contain “BBC Monitoring” and for JSTOR material it will contain “JSTOR.”  This field is intended for human display of major sources as well as for network analysis of information flows by source, obviating the requirement to perform domain or other parsing of the MentionIdentifier field.\n",
    "MentionIdentifier\tSTRING\tNULLABLE\tThis is the unique external identifier for the source document.  It can be used to uniquely identify the document and access it if you have the necessary subscriptions or authorizations and/or the document is public access.  This field can contain a range of values, from URLs of open web resources to textual citations of print or broadcast material to DOI identifiers for various document repositories.  For example, if MentionType is equal to 1, this field will contain a fully-qualified URL suitable for direct access.  If MentionType is equal to 2, this field will contain a textual citation akin to what would appear in an academic journal article referencing that document (NOTE that the actual citation format will vary (usually between APA, Chicago, Harvard, or MLA) depending on a number of factors and no assumptions should be made on its precise format at this time due to the way in which this data is currently provided to GDELT – future efforts will focus on normalization of this field to a standard citation format).  If MentionType is 3, the field will contain a numeric or alpha-numeric DOI that can be typed into JSTOR’s search engine to access the document if your institution has a JSTOR subscription.\n",
    "SentenceID\tINTEGER\tNULLABLE\tThe sentence within the article where the event was mentioned (starting with the first sentence as 1, the second sentence as 2, the third sentence as 3, and so on).  This can be used similarly to the CharOffset fields below, but reports the event’s location in the article in terms of sentences instead of characters, which is more amenable to certain measures of the “importance” of an event’s positioning within an article.\n",
    "Actor1CharOffset\tINTEGER\tNULLABLE\tThe location within the article (in terms of English characters) where Actor1 was found.  This can be used in combination with the GKG or other analysis to identify further characteristics and attributes of the actor.  NOTE: due to processing performed on each article, this may be slightly offset from the position seen when the article is rendered in a web browser.\n",
    "Actor2CharOffset\tINTEGER\tNULLABLE\tThe location within the article (in terms of English characters) where Actor2 was found.  This can be used in combination with the GKG or other analysis to identify further characteristics and attributes of the actor.  NOTE: due to processing performed on each article, this may be slightly offset from the position seen when the article is rendered in a web browser.\n",
    "ActionCharOffset\tINTEGER\tNULLABLE\tThe location within the article (in terms of English characters) where the core Action description was found.  This can be used in combination with the GKG or other analysis to identify further characteristics and attributes of the actor.  NOTE: due to processing performed on each article, this may be slightly offset from the position seen when the article is rendered in a web browser.\n",
    "InRawText\tINTEGER\tNULLABLE\tThis records whether the event was found in the original unaltered raw article text (a value of 1) or whether advanced natural language processing algorithms were required to synthesize and rewrite the article text to identify the event (a value of 0).  See the discussion on the Confidence field below for more details.  Mentions with a value of “1” in this field likely represent strong detail-rich references to an event.\n",
    "Confidence\tINTEGER\tNULLABLE\tPercent confidence in the extraction of this event from this article.  See the discussion in the codebook at http://data.gdeltproject.org/documentation/GDELT-Event_Codebook-V2.0.pdf\n",
    "MentionDocLen\tINTEGER\tNULLABLE\tThe length in English characters of the source document (making it possible to filter for short articles focusing on a particular event versus long summary articles that casually mention an event in passing).\n",
    "MentionDocTone\tFLOAT\tNULLABLE\tThe same contents as the AvgTone field in the Events table, but computed for this particular article.  NOTE: users interested in emotional measures should use the MentionIdentifier field above to merge the Mentions table with the GKG table to access the complete set of 2,300 emotions and themes from the GCAM system.\n",
    "MentionDocTranslationInfo\tSTRING\tNULLABLE\tThis field is internally delimited by semicolons and is used to record provenance information for machine translated documents indicating the original source language and the citation of the translation system used to translate the document for processing.  It will be blank for documents originally in English.  At this time the field will also be blank for documents translated by a human translator and provided to GDELT in English (such as BBC Monitoring materials) – in future this field may be expanded to include information on human translation pipelines, but at present it only captures information on machine translated materials.  An example of the contents of this field might be “srclc:fra; eng:Moses 2.1.1 / MosesCore Europarl fr-en / GT-FRA 1.0”.  NOTE:  Machine translation is often not as accurate as human translation and users requiring the highest possible confidence levels may wish to exclude events whose only mentions are in translated reports, while those needing the highest-possible coverage of the non-Western world will find that these events often offer the earliest glimmers of breaking events or smaller-bore events of less interest to Western media.o SRCLC. This is the Source Language Code, representing the three-letter ISO639-2 code of the language of the original source material. o ENG.  This is a textual citation string that indicates the engine(s) and model(s) used to translate the text.  The format of this field will vary across engines and over time and no expectations should be made on the ordering or formatting of this field.  In the example above, the string “Moses 2.1.1 / MosesCore Europarl fr-en / GT-FRA 1.0” indicates that the document was translated using version 2.1.1 of the Moses   SMT platform, using the “MosesCore Europarl fr-en” translation and language models, with the final translation enhanced via GDELT Translingual’s own version 1.0 French translation and language models.  A value of “GT-ARA 1.0” indicates that GDELT Translingual’s version 1.0 Arabic translation and language models were the sole resources used for translation.  Additional language systems used in the translation pipeline such as word segmentation systems are also captured in this field such that a value of “GT-ZHO 1.0 / Stanford PKU” indicates that the Stanford Chinese Word Segmenter   was used to segment the text into individual words and sentences, which were then translated by GDELT Translingual’s own version 1.0 Chinese (Traditional or Simplified) translation and language models.\n",
    "Extras\tSTRING\tNULLABLE\tThis field is currently blank, but is reserved for future use to encode special additional measurements for selected material.\n",
    "'''"
   ]
  },
  {
   "cell_type": "code",
   "execution_count": null,
   "metadata": {
    "collapsed": false
   },
   "outputs": [],
   "source": [
    "from StringIO import StringIO\n",
    "eventMentions = pd.read_csv(StringIO(text),delimiter='\\t',header=None)"
   ]
  },
  {
   "cell_type": "code",
   "execution_count": null,
   "metadata": {
    "collapsed": false
   },
   "outputs": [],
   "source": [
    "eventMentions.columns=['tableId', 'dataType','Empty', 'Description']"
   ]
  },
  {
   "cell_type": "code",
   "execution_count": null,
   "metadata": {
    "collapsed": false
   },
   "outputs": [],
   "source": [
    "eventMentions.to_csv('../../gdelt2HeaderRows/schema_csvs/GDELT_2.0_eventMentions_Column_Labels_Header_Row_Sep2016.tsv',encoding='utf-8',sep='\\t')"
   ]
  },
  {
   "cell_type": "code",
   "execution_count": null,
   "metadata": {
    "collapsed": false
   },
   "outputs": [],
   "source": [
    "eventMentions"
   ]
  },
  {
   "cell_type": "code",
   "execution_count": null,
   "metadata": {
    "collapsed": false
   },
   "outputs": [],
   "source": [
    "gkgdf.to_csv('../../gdelt2HeaderRows/schema_csvs/GDELT_2.0_gdeltKnowledgeGraph_Column_Labels_Header_Row_Sep2016.tsv',encoding='utf-8',sep='\\t')"
   ]
  },
  {
   "cell_type": "code",
   "execution_count": null,
   "metadata": {
    "collapsed": false
   },
   "outputs": [],
   "source": [
    "gkgdf.to_csv('GDELT_2.0_gdeltKnowledgeGraph_Column_Labels_Header_Row_Sep2016.csv',sep='\\t',index=False,encoding='utf-8')"
   ]
  },
  {
   "cell_type": "code",
   "execution_count": null,
   "metadata": {
    "collapsed": false
   },
   "outputs": [],
   "source": [
    "headers.to_csv('GDELT_2.0_Events_Column_Labels_Header_Row_Sep2016.csv', index=False,encoding='utf-8')"
   ]
  },
  {
   "cell_type": "code",
   "execution_count": null,
   "metadata": {
    "collapsed": false
   },
   "outputs": [],
   "source": [
    "mentionsdf = pd.read_csv(StringIO(text),delimiter='\\t',header=None)\n",
    "mentionsdf.columns=headers.columns.tolist()"
   ]
  },
  {
   "cell_type": "code",
   "execution_count": null,
   "metadata": {
    "collapsed": true
   },
   "outputs": [],
   "source": []
  },
  {
   "cell_type": "code",
   "execution_count": null,
   "metadata": {
    "collapsed": true
   },
   "outputs": [],
   "source": [
    "np.all( np.logical_not(np.array(map(parse, date)) > datetime.datetime.now())) == False:\n",
    "                raise ValueError:\"One of your dates is greater than the current date. Check input date strings.\""
   ]
  },
  {
   "cell_type": "code",
   "execution_count": null,
   "metadata": {
    "collapsed": false
   },
   "outputs": [],
   "source": [
    "dates"
   ]
  },
  {
   "cell_type": "markdown",
   "metadata": {},
   "source": [
    "*********************\n",
    "# Building the classes"
   ]
  },
  {
   "cell_type": "code",
   "execution_count": null,
   "metadata": {
    "collapsed": false
   },
   "outputs": [],
   "source": [
    "N = 30\n",
    "x1 = np.linspace(-2, 2, N)\n",
    "x1[::-1]"
   ]
  },
  {
   "cell_type": "code",
   "execution_count": null,
   "metadata": {
    "collapsed": true
   },
   "outputs": [],
   "source": []
  }
 ],
 "metadata": {
  "anaconda-cloud": {},
  "kernelspec": {
   "display_name": "Python [conda env:pycharmDev]",
   "language": "python",
   "name": "conda-env-pycharmDev-py"
  },
  "language_info": {
   "codemirror_mode": {
    "name": "ipython",
    "version": 3
   },
   "file_extension": ".py",
   "mimetype": "text/x-python",
   "name": "python",
   "nbconvert_exporter": "python",
   "pygments_lexer": "ipython3",
   "version": "3.6.1"
  }
 },
 "nbformat": 4,
 "nbformat_minor": 0
}
